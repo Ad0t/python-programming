{
 "cells": [
  {
   "cell_type": "markdown",
   "id": "f5763997",
   "metadata": {},
   "source": [
    "# 1. Sum of List Using Recursion\n",
    "\n",
    "Write a Python program to calculate the sum of a list of numbers using recursion."
   ]
  },
  {
   "cell_type": "code",
   "execution_count": 16,
   "id": "b802096f",
   "metadata": {},
   "outputs": [
    {
     "name": "stdout",
     "output_type": "stream",
     "text": [
      "15\n"
     ]
    }
   ],
   "source": [
    "def sum_of_list(li):\n",
    "    if len(li) == 1:\n",
    "        return li[0]\n",
    "    else:\n",
    "        return li[0] + sum_of_list(li[1:])\n",
    "print(sum_of_list([1,2,3,4,5]))"
   ]
  },
  {
   "cell_type": "markdown",
   "id": "40a57017",
   "metadata": {},
   "source": [
    "# 2. Integer to String Conversion in Any Base Using Recursion\n",
    "\n",
    "Write a Python program to convert an integer to a string in any base using recursion ."
   ]
  },
  {
   "cell_type": "code",
   "execution_count": null,
   "id": "a4259f5d",
   "metadata": {},
   "outputs": [],
   "source": []
  },
  {
   "cell_type": "markdown",
   "id": "ff856d14",
   "metadata": {},
   "source": [
    "# 3. Sum of Nested Lists Using Recursion\n",
    "\n",
    "Write a Python program to sum recursion lists using recursion.\n",
    "```\n",
    "Test Data: [1, 2, [3,4], [5,6]]\n",
    "Expected Result: 21\n",
    "```"
   ]
  },
  {
   "cell_type": "code",
   "execution_count": null,
   "id": "3927dcb7",
   "metadata": {},
   "outputs": [],
   "source": []
  },
  {
   "cell_type": "markdown",
   "id": "c9a1533a",
   "metadata": {},
   "source": [
    "# 4. Factorial Using Recursion\n",
    "\n",
    "Write a Python program to get the factorial of a non-negative integer using recursion"
   ]
  },
  {
   "cell_type": "code",
   "execution_count": 17,
   "id": "6a1d83ce",
   "metadata": {},
   "outputs": [
    {
     "name": "stdout",
     "output_type": "stream",
     "text": [
      "120\n"
     ]
    }
   ],
   "source": [
    "def factorial(n):\n",
    "    if n <= 1:\n",
    "        return 1\n",
    "    return n * factorial(n-1)\n",
    "\n",
    "print(factorial(5))"
   ]
  },
  {
   "cell_type": "markdown",
   "id": "703dcb03",
   "metadata": {},
   "source": [
    "# 5. Fibonacci Sequence Using Recursion\n",
    "\n",
    "Write a Python program to solve the Fibonacci sequence using recursion."
   ]
  },
  {
   "cell_type": "code",
   "execution_count": null,
   "id": "e8a9accc",
   "metadata": {},
   "outputs": [
    {
     "name": "stdout",
     "output_type": "stream",
     "text": [
      "13\n",
      "1 1 2 3 5 8 13 "
     ]
    }
   ],
   "source": [
    "def fibonacci(n):\n",
    "    if n <= 2:\n",
    "        return 1\n",
    "    else:\n",
    "        return fibonacci(n-1) + fibonacci(n-2)\n",
    "\n",
    "def fibonacci_sequence(n):\n",
    "    for i in range(1, n+1):\n",
    "        print(fibonacci(i), end=\" \")\n",
    "\n",
    "print(fibonacci(7))\n",
    "fibonacci_sequence(7)"
   ]
  },
  {
   "cell_type": "markdown",
   "id": "daa9d758",
   "metadata": {},
   "source": [
    "# 6. Sum of Digits of an Integer Using Recursion\n",
    "\n",
    "Write a Python program to get the sum of a non-negative integer using recursion.\n",
    "```\n",
    "Test Data:\n",
    "sumDigits(345) -> 12\n",
    "sumDigits(45) -> 9\n",
    "```"
   ]
  },
  {
   "cell_type": "code",
   "execution_count": 23,
   "id": "01d51a8d",
   "metadata": {},
   "outputs": [
    {
     "name": "stdout",
     "output_type": "stream",
     "text": [
      "12\n"
     ]
    }
   ],
   "source": [
    "def sumDigits(n):\n",
    "    if n == 0:\n",
    "        return 0\n",
    "    return n%10 + sumDigits(n//10)\n",
    "\n",
    "print(sumDigits(345))"
   ]
  },
  {
   "cell_type": "markdown",
   "id": "3227b2cd",
   "metadata": {},
   "source": [
    "# 7. Sum of Series n + (n-2) + (n-4) ... Using Recursion\n",
    "\n",
    "Write a Python program to calculate the sum of the positive integers of n+(n-2)+(n-4)... (until n-x =< 0) using recursion .\n",
    "```\n",
    "Test Data:\n",
    "sum_series(6) -> 12\n",
    "sum_series(10) -> 30\n",
    "```"
   ]
  },
  {
   "cell_type": "code",
   "execution_count": 25,
   "id": "192f77c5",
   "metadata": {},
   "outputs": [
    {
     "name": "stdout",
     "output_type": "stream",
     "text": [
      "30\n"
     ]
    }
   ],
   "source": [
    "def sum_series(n):\n",
    "    if n <= 0:\n",
    "        return 0\n",
    "    return n + sum_series(n-2)\n",
    "\n",
    "print(sum_series(10))"
   ]
  },
  {
   "attachments": {
    "image.png": {
     "image/png": "[encoded data removed]"
    }
   },
   "cell_type": "markdown",
   "id": "b00f7d0e",
   "metadata": {},
   "source": [
    "# 8. Harmonic Series Sum Using Recursion\n",
    "\n",
    "Write a Python program to calculate the sum of harmonic series upto n terms.\n",
    "\n",
    "Note: The harmonic sum is the sum of reciprocals of the positive integers.  \n",
    "Example :  \n",
    "![image.png](attachment:image.png)\n"
   ]
  },
  {
   "cell_type": "code",
   "execution_count": 27,
   "id": "82944720",
   "metadata": {},
   "outputs": [
    {
     "data": {
      "text/plain": [
       "2.7178571428571425"
      ]
     },
     "execution_count": 27,
     "metadata": {},
     "output_type": "execute_result"
    }
   ],
   "source": [
    "def harmonic_series(n):\n",
    "    if n == 1:\n",
    "        return 1\n",
    "    return 1/n + harmonic_series(n-1)\n",
    "\n",
    "harmonic_series(8)"
   ]
  },
  {
   "cell_type": "markdown",
   "id": "d7aef961",
   "metadata": {},
   "source": [
    "# 9. Geometric Series Sum Using Recursion\n",
    "\n",
    "Write a Python program to calculate the geometric sum up to 'n' terms.\n",
    "\n",
    "Note: In mathematics, a geometric series is a series with a constant ratio between successive terms."
   ]
  },
  {
   "cell_type": "markdown",
   "id": "3f0af178",
   "metadata": {},
   "source": [
    "# 10. Exponentiation Using Recursion\n",
    "\n",
    "Write a Python program to calculate the value of 'a' to the power of 'b' using recursion.\n",
    "```\n",
    "Test Data :\n",
    "power(3,4) -> 81\n",
    "```"
   ]
  },
  {
   "cell_type": "markdown",
   "id": "3f619be8",
   "metadata": {},
   "source": [
    "# 11. Greatest Common Divisor (GCD) Using Recursion\n",
    "\n",
    "Write a Python program to find the greatest common divisor (GCD) of two integers using recursion."
   ]
  }
 ],
 "metadata": {
  "kernelspec": {
   "display_name": "base",
   "language": "python",
   "name": "python3"
  },
  "language_info": {
   "codemirror_mode": {
    "name": "ipython",
    "version": 3
   },
   "file_extension": ".py",
   "mimetype": "text/x-python",
   "name": "python",
   "nbconvert_exporter": "python",
   "pygments_lexer": "ipython3",
   "version": "3.12.4"
  }
 },
 "nbformat": 4,
 "nbformat_minor": 5
}
