{
 "cells": [
  {
   "cell_type": "markdown",
   "id": "617ffcf7",
   "metadata": {},
   "source": [
    "# NumPy Array Functions  \n",
    "NumPy array functions are the built-in functions provided by NumPy that allow us to create and manipulate arrays, and perform different operations on them.  \n",
    "\n",
    "## Common NumPy Array Functions\n",
    "There are many NumPy array functions available but here are some of the most commonly used ones.\n",
    "\n",
    "---\n",
    "Array Operations\tFunctions\n",
    "Array Creation Functions\tnp.array(), np.zeros(), np.ones(), np.empty(), etc.\n",
    "Array Manipulation Functions\tnp.reshape(), np.transpose(), etc.\n",
    "Array Mathematical Functions\tnp.add(), np.subtract(), np.sqrt(), np.power(), etc.\n",
    "Array Statistical Functions\tnp.median(), np.mean(), np.std(), and np.var().\n",
    "Array Input and Output Functions\tnp.save(), np.load(), np.loadtxt(), etc.\n",
    "---"
   ]
  },
  {
   "cell_type": "code",
   "execution_count": 5,
   "id": "d6036b07",
   "metadata": {},
   "outputs": [
    {
     "name": "stdout",
     "output_type": "stream",
     "text": [
      "np.array():\n",
      " [ 1  3  5  2  4  6  7  9  8 10]\n",
      "np.reshape():\n",
      " [[ 1  3  5  2  4]\n",
      " [ 6  7  9  8 10]]\n",
      "np.transpose():\n",
      " [[ 1  6]\n",
      " [ 3  7]\n",
      " [ 5  9]\n",
      " [ 2  8]\n",
      " [ 4 10]]\n"
     ]
    }
   ],
   "source": [
    "import numpy as np\n",
    "\n",
    "array1 = np.array([1, 3, 5, 2, 4, 6, 7, 9, 8, 10])\n",
    "print(\"np.array():\\n\", array1)\n",
    "array2 = np.reshape(array1, (2, 5))\n",
    "print(\"np.reshape():\\n\", array2)\n",
    "array3 = np.transpose(array2)\n",
    "print(\"np.transpose():\\n\", array3)"
   ]
  }
 ],
 "metadata": {
  "kernelspec": {
   "display_name": "base",
   "language": "python",
   "name": "python3"
  },
  "language_info": {
   "codemirror_mode": {
    "name": "ipython",
    "version": 3
   },
   "file_extension": ".py",
   "mimetype": "text/x-python",
   "name": "python",
   "nbconvert_exporter": "python",
   "pygments_lexer": "ipython3",
   "version": "3.12.4"
  }
 },
 "nbformat": 4,
 "nbformat_minor": 5
}
