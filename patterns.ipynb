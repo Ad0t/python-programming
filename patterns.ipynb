{
 "cells": [
  {
   "cell_type": "markdown",
   "id": "e9318954",
   "metadata": {},
   "source": [
    "```\n",
    "* * * * * \n",
    "* * * * * \n",
    "* * * * * \n",
    "* * * * * \n",
    "* * * * * \n",
    "``` "
   ]
  },
  {
   "cell_type": "code",
   "execution_count": null,
   "id": "0195db66",
   "metadata": {},
   "outputs": [],
   "source": [
    "n = int(input(\"N: \"))\n",
    "for i in range(n):\n",
    "        for j in range(n):\n",
    "            print(\"*\", end=\" \")\n",
    "        print(\"\\n\")"
   ]
  },
  {
   "cell_type": "markdown",
   "id": "7c36923e",
   "metadata": {},
   "source": [
    "```\n",
    "* \n",
    "* * \n",
    "* * * \n",
    "* * * * \n",
    "* * * * * \n",
    "```"
   ]
  },
  {
   "cell_type": "code",
   "execution_count": null,
   "id": "a6238181",
   "metadata": {},
   "outputs": [],
   "source": [
    "n = int(input(\"N: \"))\n",
    "for i in range(n):\n",
    "        for j in range(i+1):\n",
    "            print(\"*\", end=\" \")\n",
    "        print(\"\\n\")"
   ]
  },
  {
   "cell_type": "markdown",
   "id": "6dd93913",
   "metadata": {},
   "source": [
    "```\n",
    "1 \n",
    "1 2 \n",
    "1 2 3 \n",
    "1 2 3 4 \n",
    "1 2 3 4 5 \n",
    "```"
   ]
  },
  {
   "cell_type": "code",
   "execution_count": null,
   "id": "d1173c47",
   "metadata": {},
   "outputs": [],
   "source": [
    "n = int(input(\"N: \"))\n",
    "for i in range(n):\n",
    "        for j in range(i+1):\n",
    "            print(j+1, end=\" \")\n",
    "        print(\"\\n\")"
   ]
  },
  {
   "cell_type": "markdown",
   "id": "e3a719fb",
   "metadata": {},
   "source": [
    "```\n",
    "1 \n",
    "2 2 \n",
    "3 3 3 \n",
    "4 4 4 4 \n",
    "5 5 5 5 5 \n",
    "```"
   ]
  },
  {
   "cell_type": "code",
   "execution_count": null,
   "id": "2ec9210c",
   "metadata": {},
   "outputs": [],
   "source": [
    "n = int(input(\"N: \"))\n",
    "for i in range(n):\n",
    "        for j in range(i+1):\n",
    "            print(i+1, end=\" \")\n",
    "        print(\"\\n\")"
   ]
  },
  {
   "cell_type": "markdown",
   "id": "58eb0636",
   "metadata": {},
   "source": [
    "```\n",
    "* * * * * \n",
    "* * * * \n",
    "* * * \n",
    "* * \n",
    "* \n",
    "```"
   ]
  },
  {
   "cell_type": "code",
   "execution_count": null,
   "id": "f2bac33a",
   "metadata": {},
   "outputs": [],
   "source": [
    "n = int(input(\"N: \"))\n",
    "for i in range(n):\n",
    "        for j in range(n-i):\n",
    "            print(\"*\", end=\" \")\n",
    "        print(\"\\n\")"
   ]
  },
  {
   "cell_type": "markdown",
   "id": "880f0336",
   "metadata": {},
   "source": [
    "```\n",
    "1 2 3 4 5 \n",
    "1 2 3 4 \n",
    "1 2 3 \n",
    "1 2 \n",
    "1 \n",
    "```"
   ]
  },
  {
   "cell_type": "code",
   "execution_count": null,
   "id": "21fef56c",
   "metadata": {},
   "outputs": [],
   "source": [
    "n = int(input(\"N: \"))\n",
    "for i in range(n):\n",
    "        for j in range(n-i):\n",
    "            print(j+1, end=\" \")\n",
    "        print(\"\\n\")"
   ]
  },
  {
   "cell_type": "markdown",
   "id": "ccd8beae",
   "metadata": {},
   "source": [
    "```\n",
    "    *    \n",
    "   ***   \n",
    "  *****  \n",
    " ******* \n",
    "********* \n",
    "```"
   ]
  },
  {
   "cell_type": "markdown",
   "id": "32f4aad2",
   "metadata": {},
   "source": [
    "```\n",
    "*********\n",
    " ******* \n",
    "  *****  \n",
    "   ***   \n",
    "    *   \n",
    "```"
   ]
  },
  {
   "cell_type": "markdown",
   "id": "21c89f57",
   "metadata": {},
   "source": [
    "```\n",
    "    *    \n",
    "   ***   \n",
    "  *****  \n",
    " ******* \n",
    "*********\n",
    "*********\n",
    " ******* \n",
    "  *****  \n",
    "   ***   \n",
    "    *   \n",
    "```"
   ]
  },
  {
   "cell_type": "markdown",
   "id": "3ce41325",
   "metadata": {},
   "source": [
    "```\n",
    "*\n",
    "**\n",
    "***\n",
    "****\n",
    "*****\n",
    "****\n",
    "***\n",
    "**\n",
    "*\n",
    "```\n"
   ]
  },
  {
   "cell_type": "markdown",
   "id": "88e99e05",
   "metadata": {},
   "source": [
    "```\n",
    "1 \n",
    "0 1 \n",
    "1 0 1 \n",
    "0 1 0 1 \n",
    "1 0 1 0 1 \n",
    "```\n"
   ]
  },
  {
   "cell_type": "markdown",
   "id": "739600b4",
   "metadata": {},
   "source": [
    "```\n",
    "1 \n",
    "0 1 \n",
    "1 0 1 \n",
    "0 1 0 1 \n",
    "1 0 1 0 1 \n",
    "```\n"
   ]
  },
  {
   "cell_type": "markdown",
   "id": "d2ab430c",
   "metadata": {},
   "source": [
    "```\n",
    "1                 1 \n",
    "1 2             2 1 \n",
    "1 2 3         3 2 1 \n",
    "1 2 3 4     4 3 2 1 \n",
    "1 2 3 4 5 5 4 3 2 1 \n",
    "```\n"
   ]
  },
  {
   "cell_type": "markdown",
   "id": "34233f62",
   "metadata": {},
   "source": [
    "```\n",
    "A \n",
    "A B \n",
    "A B C \n",
    "A B C D \n",
    "A B C D E \n",
    "```\n"
   ]
  },
  {
   "cell_type": "markdown",
   "id": "ee0fdfac",
   "metadata": {},
   "source": [
    "```\n",
    "A B C D E \n",
    "A B C D \n",
    "A B C \n",
    "A B \n",
    "A \n",
    "```\n"
   ]
  },
  {
   "cell_type": "markdown",
   "id": "1e067589",
   "metadata": {},
   "source": [
    "```\n",
    "A \n",
    "B B \n",
    "C C C \n",
    "D D D D \n",
    "E E E E E \n",
    "```\n"
   ]
  },
  {
   "cell_type": "markdown",
   "id": "c6ff9bcf",
   "metadata": {},
   "source": [
    "```\n",
    "        A         \n",
    "      A B A       \n",
    "    A B C B A     \n",
    "  A B C D C B A   \n",
    "A B C D E D C B A \n",
    "```\n"
   ]
  },
  {
   "cell_type": "markdown",
   "id": "4e7b9e97",
   "metadata": {},
   "source": [
    "```\n",
    "E \n",
    "E D \n",
    "E D C \n",
    "E D C B \n",
    "E D C B A \n",
    "```\n"
   ]
  },
  {
   "cell_type": "markdown",
   "id": "d1591f55",
   "metadata": {},
   "source": [
    "```\n",
    "* * * * * * * * * * \n",
    "* * * *     * * * * \n",
    "* * *         * * * \n",
    "* *             * * \n",
    "*                 * \n",
    "*                 * \n",
    "* *             * * \n",
    "* * *         * * * \n",
    "* * * *     * * * * \n",
    "* * * * * * * * * * \n",
    "```\n"
   ]
  },
  {
   "cell_type": "markdown",
   "id": "d645d98e",
   "metadata": {},
   "source": [
    "```\n",
    "*                 * \n",
    "* *             * * \n",
    "* * *         * * * \n",
    "* * * *     * * * * \n",
    "* * * * * * * * * * \n",
    "* * * *     * * * * \n",
    "* * *         * * * \n",
    "* *             * * \n",
    "*                 * \n",
    "```\n"
   ]
  },
  {
   "cell_type": "markdown",
   "id": "464beb66",
   "metadata": {},
   "source": [
    "```\n",
    "*****\n",
    "*   *\n",
    "*   *\n",
    "*   *\n",
    "*****\n",
    "```"
   ]
  },
  {
   "cell_type": "markdown",
   "id": "64a93dc5",
   "metadata": {},
   "source": [
    "```\n",
    "555555555\n",
    "544444445\n",
    "543333345\n",
    "543222345\n",
    "543212345\n",
    "543222345\n",
    "543333345\n",
    "544444445\n",
    "555555555\n",
    "```"
   ]
  }
 ],
 "metadata": {
  "kernelspec": {
   "display_name": "base",
   "language": "python",
   "name": "python3"
  },
  "language_info": {
   "codemirror_mode": {
    "name": "ipython",
    "version": 3
   },
   "file_extension": ".py",
   "mimetype": "text/x-python",
   "name": "python",
   "nbconvert_exporter": "python",
   "pygments_lexer": "ipython3",
   "version": "3.12.4"
  }
 },
 "nbformat": 4,
 "nbformat_minor": 5
}
