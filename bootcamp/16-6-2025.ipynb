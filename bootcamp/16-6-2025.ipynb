{
 "cells": [
  {
   "cell_type": "markdown",
   "id": "280c4359",
   "metadata": {},
   "source": [
    "Q. User Input Greeting Message"
   ]
  },
  {
   "cell_type": "code",
   "execution_count": 1,
   "id": "273b0114",
   "metadata": {},
   "outputs": [
    {
     "name": "stdout",
     "output_type": "stream",
     "text": [
      "Hello World\n"
     ]
    }
   ],
   "source": [
    "name = input(\"Enter your name: \")\n",
    "print(f\"Hello {name}\")"
   ]
  },
  {
   "cell_type": "markdown",
   "id": "48884cf1",
   "metadata": {},
   "source": [
    "Q. Calculator"
   ]
  },
  {
   "cell_type": "code",
   "execution_count": 9,
   "id": "38502c78",
   "metadata": {},
   "outputs": [
    {
     "name": "stdout",
     "output_type": "stream",
     "text": [
      "1.5\n"
     ]
    }
   ],
   "source": [
    "def calc(x, y, op):\n",
    "    res = eval(f\"{x} {op} {y}\")\n",
    "    return res\n",
    "print(calc(3, 2, '/'))"
   ]
  },
  {
   "cell_type": "code",
   "execution_count": null,
   "id": "991b76a2",
   "metadata": {},
   "outputs": [],
   "source": [
    "def calco(x, y):\n",
    "    operation = int(input(\"Operation: \\n1. Addition\\t2. Subtraction\\t3. Multiply\\t4.Divide\\t5. Expo\"))\n",
    "    if operation == 1:\n",
    "        return x + y\n",
    "    elif operation == 2:\n",
    "        return x - y\n",
    "    elif operation == 3:\n",
    "        return x * y\n",
    "    elif operation == 4:\n",
    "        if y == 0:\n",
    "            return \"ZeroDivisionError\"\n",
    "        else:\n",
    "            return x/y\n",
    "    elif operation == 5:\n",
    "        return x ** y\n",
    "    \n",
    "print(calco(10, 2))"
   ]
  },
  {
   "cell_type": "markdown",
   "id": "4f06358f",
   "metadata": {},
   "source": [
    "Q. Take list of int and return only primes"
   ]
  },
  {
   "cell_type": "code",
   "execution_count": null,
   "id": "440c3608",
   "metadata": {},
   "outputs": [
    {
     "name": "stdout",
     "output_type": "stream",
     "text": [
      "[11, 43]\n"
     ]
    }
   ],
   "source": [
    "def is_prime(n):\n",
    "    if n <= 1:\n",
    "        return False\n",
    "    for i in range(2, int(n**0.5)+1):\n",
    "        if n%i == 0:\n",
    "            return False\n",
    "    return True\n",
    "\n",
    "def solution(arr):\n",
    "    res = []\n",
    "    for i in arr:\n",
    "        if is_prime(i):\n",
    "            res.append(i)\n",
    "    return res\n",
    "\n",
    "input_array = list(map(int, input().strip().split()))\n",
    "# input_array = [1,2,3,4,5,6,7,8,9,10]\n",
    "print(solution(input_array))"
   ]
  },
  {
   "cell_type": "code",
   "execution_count": null,
   "id": "e4b10b85",
   "metadata": {},
   "outputs": [
    {
     "name": "stdout",
     "output_type": "stream",
     "text": [
      "List of primes: [2, 3, 5, 7]\n",
      "List with 10 added: [11, 12, 13, 14, 15, 16, 17, 18, 19, 20]\n",
      "List with 10 added: [2, 4, 6, 8, 10]\n"
     ]
    }
   ],
   "source": [
    "input_array = [1,2,3,4,5,6,7,8,9,10]\n",
    "\n",
    "is_prime = lambda n: n > 1 and len(list(filter(lambda i: n%i == 0, range(2, int(n**0.5)+1)))) == 0\n",
    "prime_array = list(filter(is_prime, input_array))\n",
    "print(f\"List of primes: {prime_array}\")\n",
    "\n",
    "add10 = lambda i: i + 10\n",
    "added_array = list(map(add10, input_array))\n",
    "print(f\"List with 10 added: {added_array}\")\n",
    "\n",
    "is_even = lambda i: i%2 == 0\n",
    "even_array = list(filter(is_even, input_array))\n",
    "print(f\"List of even numbers: {even_array}\")"
   ]
  },
  {
   "cell_type": "markdown",
   "id": "7f6f1de4",
   "metadata": {},
   "source": [
    "Q. Number entered by user is even or odd"
   ]
  },
  {
   "cell_type": "code",
   "execution_count": 14,
   "id": "8f0da1a5",
   "metadata": {},
   "outputs": [
    {
     "name": "stdout",
     "output_type": "stream",
     "text": [
      "Odd\n"
     ]
    }
   ],
   "source": [
    "x = int(input(\"Enter number: \"))\n",
    "print(\"Even\" if x%2==0 else \"Odd\")"
   ]
  }
 ],
 "metadata": {
  "kernelspec": {
   "display_name": "base",
   "language": "python",
   "name": "python3"
  },
  "language_info": {
   "codemirror_mode": {
    "name": "ipython",
    "version": 3
   },
   "file_extension": ".py",
   "mimetype": "text/x-python",
   "name": "python",
   "nbconvert_exporter": "python",
   "pygments_lexer": "ipython3",
   "version": "3.12.4"
  }
 },
 "nbformat": 4,
 "nbformat_minor": 5
}
