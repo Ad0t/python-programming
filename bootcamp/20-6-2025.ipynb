{
 "cells": [
  {
   "cell_type": "code",
   "execution_count": 2,
   "id": "f11b40a6",
   "metadata": {},
   "outputs": [],
   "source": [
    "def findSecondLargest(arr):\n",
    "    largest, largest2 = arr[0], -1\n",
    "    for i in range(1, len(arr)):\n",
    "        if arr[i] > largest:\n",
    "            largest2 = largest\n",
    "            largest = arr[i]\n",
    "        elif arr[i] > largest2 and arr[i] < largest:\n",
    "            largest2 = arr[i]\n",
    "    return largest2"
   ]
  },
  {
   "cell_type": "code",
   "execution_count": 3,
   "id": "04322f1a",
   "metadata": {},
   "outputs": [
    {
     "name": "stdout",
     "output_type": "stream",
     "text": [
      "99\n"
     ]
    }
   ],
   "source": [
    "arr = [1,2,3,4,5,6,7,8,99,1,222,33,23]\n",
    "res = findSecondLargest(arr)\n",
    "print(res)"
   ]
  },
  {
   "cell_type": "markdown",
   "id": "7b92a222",
   "metadata": {},
   "source": [
    "Write a function that counts the occurrence of each character in a string. The function should return a dictionary where the keys are characters, and the values are their corresponding counts."
   ]
  },
  {
   "cell_type": "code",
   "execution_count": 7,
   "id": "6fd4cb28",
   "metadata": {},
   "outputs": [
    {
     "name": "stdout",
     "output_type": "stream",
     "text": [
      "{'W': 1, 'r': 17, 'i': 9, 't': 16, 'e': 19, ' ': 30, 'a': 14, 'f': 3, 'u': 8, 'n': 14, 'c': 14, 'o': 10, 'h': 11, 's': 8, 'g': 2, '.': 2, 'T': 1, 'l': 2, 'd': 4, 'y': 2, 'w': 1, 'k': 1, ',': 1, 'v': 1, 'p': 1}\n"
     ]
    }
   ],
   "source": [
    "sentence = \"Write a function that counts the occurrence of each character in a string. The function should return a dictionary where the keys are characters, and the values are their corresponding counts.\"\n",
    "res = {}\n",
    "for i in sentence:\n",
    "    if i not in res.keys():\n",
    "        res[i] = sentence.count(i)\n",
    "print(res)"
   ]
  },
  {
   "cell_type": "code",
   "execution_count": 8,
   "id": "64a48e6f",
   "metadata": {},
   "outputs": [
    {
     "name": "stdout",
     "output_type": "stream",
     "text": [
      "Crt  fnctn tht rmvs vwls frm  gvn strng.\n"
     ]
    }
   ],
   "source": [
    "sentence = \"Create a function that removes vowels from a given string.\"\n",
    "res = \"\"\n",
    "for i in sentence:\n",
    "    if i in \"aeiou\":\n",
    "        continue\n",
    "    res += i\n",
    "print(res)"
   ]
  }
 ],
 "metadata": {
  "kernelspec": {
   "display_name": "base",
   "language": "python",
   "name": "python3"
  },
  "language_info": {
   "codemirror_mode": {
    "name": "ipython",
    "version": 3
   },
   "file_extension": ".py",
   "mimetype": "text/x-python",
   "name": "python",
   "nbconvert_exporter": "python",
   "pygments_lexer": "ipython3",
   "version": "3.12.4"
  }
 },
 "nbformat": 4,
 "nbformat_minor": 5
}
