{
 "cells": [
  {
   "cell_type": "markdown",
   "id": "06a26928",
   "metadata": {},
   "source": [
    "# Binary Search Algorithm\n",
    "Binary Search Algorithm is a searching algorithm used in a sorted array by repeatedly dividing the search interval in half. The idea of binary search is to use the information that the array is sorted and reduce the time complexity to O(log N). \n",
    "\n",
    "### Conditions to apply Binary Search Algorithm in a Data Structure\n",
    "To apply Binary Search algorithm:\n",
    "- The data structure must be sorted.\n",
    "- Access to any element of the data structure should take constant time.\n",
    "\n",
    "### Binary Search Algorithm\n",
    "Below is the step-by-step algorithm for Binary Search:\n",
    "- Divide the search space into two halves by finding the middle index “mid”. \n",
    "- Compare the middle element of the search space with the key. \n",
    "- If the key is found at middle element, the process is terminated.\n",
    "- If the key is not found at middle element, choose which half will be used as the next search space.\n",
    "    - If the key is smaller than the middle element, then the left side is used for next search.\n",
    "    - If the key is larger than the middle element, then the right side is used for next search.\n",
    "- This process is continued until the key is found or the total search space is exhausted."
   ]
  },
  {
   "cell_type": "code",
   "execution_count": 1,
   "id": "00630b3b",
   "metadata": {},
   "outputs": [
    {
     "name": "stdout",
     "output_type": "stream",
     "text": [
      "8 found at index 7\n"
     ]
    }
   ],
   "source": [
    "def binary_search(arr, x):\n",
    "    low, high = 0, len(arr) - 1\n",
    "    while low <= high:\n",
    "        mid = low + (high - low) // 2\n",
    "        if arr[mid] == x:\n",
    "            return mid\n",
    "        elif arr[mid] < x:\n",
    "            low = mid + 1\n",
    "        else:\n",
    "            high = mid - 1\n",
    "    return -1\n",
    "\n",
    "if __name__ == \"__main__\":\n",
    "    arr = [1, 2, 3, 4, 5, 6, 7, 8, 9, 10]\n",
    "    x = int(input(\"Enter the number to be searched: \"))\n",
    "    i = binary_search(arr, x)\n",
    "    if i == -1:\n",
    "        print(f\"{x} not found\")\n",
    "    else:\n",
    "        print(f\"{x} found at index {i}\")"
   ]
  },
  {
   "cell_type": "markdown",
   "id": "00afba72",
   "metadata": {},
   "source": [
    "## Complexity Analysis of Binary Search Algorithm\n",
    "### Time Complexity: \n",
    "- Best Case: O(1)\n",
    "- Average Case: O(log N)\n",
    "- Worst Case: O(log N)\n",
    "### Auxiliary Space: \n",
    "- O(1), If the recursive call stack is considered then the auxiliary space will be O(log N).\n",
    "\n",
    "## Applications of Binary Search Algorithm\n",
    "- Binary search can be used as a building block for more complex algorithms used in machine learning, such as algorithms for training neural networks or finding the optimal hyperparameters for a model.\n",
    "- It can be used for searching in computer graphics such as algorithms for ray tracing or texture mapping.\n",
    "- It can be used for searching a database.\n",
    "\n",
    "## Problems Based on Binary Search\n",
    "- Square Root of Integer\n",
    "- First and Last Positions in a sorted array\n",
    "- Count 1’s in a sorted binary array\n",
    "- Unbounded Binary Search\n",
    "- Minimum in a sorted rotated array\n",
    "- Search in a sorted rotated array\n",
    "- Aggressive Cows"
   ]
  }
 ],
 "metadata": {
  "kernelspec": {
   "display_name": "base",
   "language": "python",
   "name": "python3"
  },
  "language_info": {
   "codemirror_mode": {
    "name": "ipython",
    "version": 3
   },
   "file_extension": ".py",
   "mimetype": "text/x-python",
   "name": "python",
   "nbconvert_exporter": "python",
   "pygments_lexer": "ipython3",
   "version": "3.12.4"
  }
 },
 "nbformat": 4,
 "nbformat_minor": 5
}
