{
 "cells": [
  {
   "cell_type": "markdown",
   "id": "69ef9f0c",
   "metadata": {},
   "source": [
    "# Linear Search Algorithm\n",
    "In Linear Search, we iterate over all the elements of the array and check if it the current element is equal to the target element. If we find any element to be equal to the target element, then return the index of the current element. Otherwise, if no element is equal to the target element, then return -1 as the element is not found. Linear search is also known as sequential search."
   ]
  },
  {
   "cell_type": "code",
   "execution_count": 2,
   "id": "2b425d7f",
   "metadata": {},
   "outputs": [
    {
     "name": "stdout",
     "output_type": "stream",
     "text": [
      "7 found at index 6\n"
     ]
    }
   ],
   "source": [
    "def linear_search(arr, x):\n",
    "    for i in range(len(arr)):\n",
    "        if arr[i] == x:\n",
    "            print(f\"{x} found at index {i}\")\n",
    "\n",
    "if __name__ == \"__main__\":\n",
    "    arr = [1, 2, 3, 4, 5, 6, 7, 8, 9, 10]\n",
    "    x = int(input(\"Enter number to be searched: \"))\n",
    "    linear_search(arr, x)"
   ]
  },
  {
   "cell_type": "markdown",
   "id": "3a4b7cab",
   "metadata": {},
   "source": [
    "## Complexity Analysis of Linear Search Algorithm:\n",
    "### Time Complexity:\n",
    "- Best Case: In the best case, the key might be present at the first index. So the best case complexity is O(1)\n",
    "- Average Case: O(N)\n",
    "- Worst Case: In the worst case, the key might be present at the last index i.e., opposite to the end from which the search has started in the list. So the worst-case complexity is O(N) where N is the size of the list.\n",
    "### Auxiliary Space: \n",
    "- O(1) as except for the variable to iterate through the list, no other variable is used. \n",
    "\n",
    "### Advantages of Linear Search:\n",
    "- Simplicity: Linear search is one of the simplest search algorithms to understand and implement.\n",
    "- Efficiency for small data sets: For small data sets, linear search can be more efficient than other search algorithms that require preprocessing or sorting.\n",
    "- Unsorted data: Linear search can be used to search unsorted data without any prior sorting.\n",
    "- Real-time applications: Linear search can be useful in real-time applications where the data set is constantly changing.\n",
    "- Limited memory overhead: Linear search requires minimal memory overhead, making it suitable for systems with limited memory resources.\n",
    "### Disadvantages of Linear Search:\n",
    "- Inefficiency for large data sets: For large data sets, linear search can be inefficient because it requires iterating through the entire list for each search.\n",
    "- Not suitable for sorted data: Linear search is not as efficient as other search algorithms (e.g., binary search) for sorted data.\n",
    "\n",
    "## Applications of Linear Search Algorithm:\n",
    "- Unsorted Lists: When we have an unsorted array or list, linear search is most commonly used to find any element in the collection.\n",
    "- Small Data Sets: Linear Search is preferred over binary search when we have small data sets with\n",
    "- Searching Linked Lists: In linked list implementations, linear search is commonly used to find elements within the list. Each node is checked sequentially until the desired element is found.\n",
    "- Simple Implementation: Linear Search is much easier to understand and implement as compared to Binary Search or Ternary Search.\n",
    "\n",
    "## When to use Linear Search Algorithm?\n",
    "- When we are dealing with a small dataset.\n",
    "- When you are searching for a dataset stored in contiguous memory.\n",
    "\n",
    "## When is Linear Search Useful?\n",
    "Linear search is useful in several scenarios:\n",
    "1. Small Data Sets  \n",
    "When the data set is relatively small (e.g., less than a few hundred elements), linear search can be efficient because the number of comparisons required is small.\n",
    "2. Unsorted Data  \n",
    "Linear search is particularly useful for unsorted data, as it does not require any prior sorting of the elements.\n",
    "3. Simple Implementation  \n",
    "Linear search is one of the simplest search algorithms to implement, making it suitable for beginners and educational purposes.\n",
    "4. Iterative Nature  \n",
    "Linear search is an iterative algorithm, meaning it can be easily implemented using a loop. This makes it easy to understand and debug.\n",
    "5. Real-Time Applications  \n",
    "In certain real-time applications where the data set is constantly changing, linear search can be more efficient than other search algorithms that require preprocessing or sorting.\n",
    "6. Limited Memory  \n",
    "Linear search requires minimal memory overhead, as it only needs to store the current element being compared. This makes it suitable for systems with limited memory resources."
   ]
  }
 ],
 "metadata": {
  "kernelspec": {
   "display_name": "base",
   "language": "python",
   "name": "python3"
  },
  "language_info": {
   "codemirror_mode": {
    "name": "ipython",
    "version": 3
   },
   "file_extension": ".py",
   "mimetype": "text/x-python",
   "name": "python",
   "nbconvert_exporter": "python",
   "pygments_lexer": "ipython3",
   "version": "3.12.4"
  }
 },
 "nbformat": 4,
 "nbformat_minor": 5
}
