{
 "cells": [
  {
   "cell_type": "markdown",
   "id": "16c4cc31",
   "metadata": {},
   "source": [
    "# Interpolation Search Algorithm\n",
    "Given a sorted array of n uniformly distributed values arr[]\n",
    "Linear Search finds the element in O(n) time, the Interpolation Search is an improvement over Binary Search for instances, where the values in a sorted array are uniformly distributed. Interpolation constructs new data points within the range of a discrete set of known data points.  \n",
    "Binary Search always goes to the middle element to check. On the other hand, interpolation search may go to different locations according to the value of the key being searched. For example, if the value of the key is closer to the last element, interpolation search is likely to start search toward the end side.  \n",
    "`pos = low + ((high - low) // (arr[high] - arr[low]) * (target - arr[low]))`\n",
    "### Algorithm \n",
    "The rest of the Interpolation algorithm is the same except for the above partition logic. \n",
    "1. In a loop, calculate the value of “pos” using the probe position formula. \n",
    "2. If it is a match, return the index of the item, and exit. \n",
    "3. If the item is less than arr[pos], calculate the probe position of the left sub-array. Otherwise, calculate the same in the right sub-array. \n",
    "4. Repeat until a match is found or the sub-array reduces to zero."
   ]
  },
  {
   "cell_type": "code",
   "execution_count": 3,
   "id": "c6ff266a",
   "metadata": {},
   "outputs": [
    {
     "name": "stdout",
     "output_type": "stream",
     "text": [
      "13 found at index 4\n"
     ]
    }
   ],
   "source": [
    "def interpolation_search_recursive(arr, low, high, target):\n",
    "    if low <= high and target >= arr[low] and target <= arr[high]:\n",
    "        pos = low + (((high - low) * (target - arr[low])) // (arr[high] - arr[low]))\n",
    "        if arr[pos] == target:\n",
    "            return pos\n",
    "        if arr[pos] < target:\n",
    "            return interpolation_search_recursive(arr, pos+1, high, target)\n",
    "        if arr[pos] > target:\n",
    "            return interpolation_search_recursive(arr, low, pos-1, target)\n",
    "    return -1\n",
    "\n",
    "if __name__ == \"__main__\":\n",
    "    arr = [1, 4, 7, 10, 13, 16, 19, 22, 25]\n",
    "    x = int(input(\"Enter number to be searched: \"))\n",
    "    i = interpolation_search_recursive(arr, 0, len(arr)-1, x)\n",
    "    if i == -1:\n",
    "        print(f\"{x} not found\")\n",
    "    else:\n",
    "        print(f\"{x} found at index {i}\")"
   ]
  },
  {
   "cell_type": "markdown",
   "id": "8effbdaa",
   "metadata": {},
   "source": [
    "### Another approach:-\n",
    "This is the iteration approach for the interpolation search.\n",
    "\n",
    "1. In a loop, calculate the value of “pos” using the probe position formula. \n",
    "2. If it is a match, return the index of the item, and exit. \n",
    "3. If the item is less than arr[pos], calculate the probe position of the left sub-array. Otherwise, calculate the same in the right sub-array. \n",
    "4. Repeat until a match is found or the sub-array reduces to zero."
   ]
  },
  {
   "cell_type": "code",
   "execution_count": null,
   "id": "b4c932a5",
   "metadata": {},
   "outputs": [],
   "source": [
    "def interpolation_search_iterative(arr, target):\n",
    "    low, high = 0, len(arr)-1\n",
    "    while low <= high and target >= arr[low] and target <= arr[high]:\n",
    "        if low == high:\n",
    "            if arr[low] == target:\n",
    "                return low\n",
    "            return -1\n",
    "        pos = low + (((target - arr[low]) * (high - low)) // (arr[high] - arr[low]))\n",
    "        if arr[pos] == target:\n",
    "            return pos\n",
    "        if arr[pos] < target:\n",
    "            low = pos + 1\n",
    "        else:\n",
    "            high = pos - 1\n",
    "    return -1\n",
    "\n",
    "if __name__ == \"__main__\":\n",
    "    arr = [1, 4, 7, 10, 13, 16, 19, 22, 25]\n",
    "    x = int(input(\"Enter number to be searched: \"))\n",
    "    i = interpolation_search_iterative(arr, x)\n",
    "    if i == -1:\n",
    "        print(f\"{x} not found\")\n",
    "    else:\n",
    "        print(f\"{x} found at index {i}\")"
   ]
  },
  {
   "cell_type": "markdown",
   "id": "42993d53",
   "metadata": {},
   "source": [
    "## Complexity Analysis of Interpolation Search Algorithm\n",
    "### Time Complexity: \n",
    "- O(log₂(log₂ n)) for the average case, and \n",
    "- O(n) for the worst case \n",
    "### Auxiliary Space Complexity: \n",
    "- O(1)"
   ]
  }
 ],
 "metadata": {
  "kernelspec": {
   "display_name": "base",
   "language": "python",
   "name": "python3"
  },
  "language_info": {
   "codemirror_mode": {
    "name": "ipython",
    "version": 3
   },
   "file_extension": ".py",
   "mimetype": "text/x-python",
   "name": "python",
   "nbconvert_exporter": "python",
   "pygments_lexer": "ipython3",
   "version": "3.12.4"
  }
 },
 "nbformat": 4,
 "nbformat_minor": 5
}
