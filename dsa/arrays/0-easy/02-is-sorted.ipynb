{
 "cells": [
  {
   "cell_type": "markdown",
   "id": "6db047dc",
   "metadata": {},
   "source": [
    "# Checking if a given array is sorted or not."
   ]
  },
  {
   "cell_type": "code",
   "execution_count": 5,
   "id": "dcbcdd61",
   "metadata": {},
   "outputs": [],
   "source": [
    "def isSorted(arr):\n",
    "    flag = 1\n",
    "    for i in range(len(arr)-1):\n",
    "        if (arr[i] > arr[i+1]):\n",
    "            flag = 0\n",
    "    if flag == 1:\n",
    "        print(f\"{arr} is sorted.\")\n",
    "        return True\n",
    "    else:\n",
    "        print(f\"{arr} is not sorted.\")\n",
    "        return False"
   ]
  },
  {
   "cell_type": "code",
   "execution_count": 8,
   "id": "2dced2d4",
   "metadata": {},
   "outputs": [
    {
     "name": "stdout",
     "output_type": "stream",
     "text": [
      "[1, 2, 3, 4, 5] is sorted.\n",
      "[1, 7, 9, 3, 5] is not sorted.\n"
     ]
    },
    {
     "data": {
      "text/plain": [
       "False"
      ]
     },
     "execution_count": 8,
     "metadata": {},
     "output_type": "execute_result"
    }
   ],
   "source": [
    "arr = [1, 2, 3, 4, 5]\n",
    "isSorted(arr)  # Output: 1\n",
    "arr = [1, 7, 9, 3, 5]\n",
    "isSorted(arr)  # Output: 0"
   ]
  }
 ],
 "metadata": {
  "kernelspec": {
   "display_name": "base",
   "language": "python",
   "name": "python3"
  },
  "language_info": {
   "codemirror_mode": {
    "name": "ipython",
    "version": 3
   },
   "file_extension": ".py",
   "mimetype": "text/x-python",
   "name": "python",
   "nbconvert_exporter": "python",
   "pygments_lexer": "ipython3",
   "version": "3.12.4"
  }
 },
 "nbformat": 4,
 "nbformat_minor": 5
}
