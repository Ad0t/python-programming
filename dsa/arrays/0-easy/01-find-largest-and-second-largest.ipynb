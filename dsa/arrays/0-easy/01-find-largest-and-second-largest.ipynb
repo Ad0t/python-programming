{
 "cells": [
  {
   "cell_type": "markdown",
   "id": "70b63242",
   "metadata": {},
   "source": [
    "# Brute Force\n",
    "#### Sorting the array\n",
    "We can sort the array in ascending order, hence the largest element will be at the last index of the array. \n",
    "\n",
    "## Approach: \n",
    "- Sort the array in ascending order.\n",
    "- Print the (size of the array -1)th index.  \n",
    "## Complexity Analysis:\n",
    "- Time Complexity: O(N*log(N))\n",
    "- Space Complexity: O(n)\n",
    "\n",
    "---\n",
    "\n",
    "# Recursive Approach\n",
    "#### Using a max variable \n",
    "We can maintain a max variable that will update whenever the current value is greater than the value in the max variable.  \n",
    "\n",
    "## Approach: \n",
    "- Create a max variable and initialize it with arr[0].\n",
    "- Use a for loop and compare it with other elements of the array\n",
    "- If any element is greater than the max value, update max value with the element’s value\n",
    "- Print the max variable.\n",
    "## Complexity Analysis:\n",
    "- Time Complexity: O(N)\n",
    "- Space Complexity: O(1)\n",
    "\n",
    "---"
   ]
  },
  {
   "cell_type": "markdown",
   "id": "d08be05d",
   "metadata": {},
   "source": [
    "# Finding the largest element in the array."
   ]
  },
  {
   "cell_type": "code",
   "execution_count": 1,
   "id": "227635d4",
   "metadata": {},
   "outputs": [],
   "source": [
    "def findLargest(arr):\n",
    "    largest = arr[0]\n",
    "    for i in range(1, len(arr)):\n",
    "        if arr[i] > largest:\n",
    "            largest = arr[i]\n",
    "    return largest"
   ]
  },
  {
   "cell_type": "markdown",
   "id": "c33f61b0",
   "metadata": {},
   "source": [
    "# Finding the second largest element in the array."
   ]
  },
  {
   "cell_type": "code",
   "execution_count": 2,
   "id": "8a6f7f1e",
   "metadata": {},
   "outputs": [],
   "source": [
    "def findSecondLargest(arr):\n",
    "    largest, largest2 = arr[0], -1\n",
    "    for i in range(1, len(arr)):\n",
    "        if arr[i] > largest:\n",
    "            largest2 = largest\n",
    "            largest = arr[i]\n",
    "        elif arr[i] > largest2 and arr[i] < largest:\n",
    "            largest2 = arr[i]\n",
    "    return largest2"
   ]
  },
  {
   "cell_type": "markdown",
   "id": "fcee1b8e",
   "metadata": {},
   "source": [
    "# Finding the smallest element in the array.\n"
   ]
  },
  {
   "cell_type": "code",
   "execution_count": 3,
   "id": "bfdd0f08",
   "metadata": {},
   "outputs": [],
   "source": [
    "def findSmallest(arr):\n",
    "    smallest = arr[0]\n",
    "    for i in range(1, len(arr)):\n",
    "        if arr[i] < smallest:\n",
    "            smallest = arr[i]\n",
    "    return smallest"
   ]
  },
  {
   "cell_type": "markdown",
   "id": "a71b3b8e",
   "metadata": {},
   "source": [
    "# Finding the second smallest element in the array."
   ]
  },
  {
   "cell_type": "code",
   "execution_count": 4,
   "id": "b0d112c0",
   "metadata": {},
   "outputs": [],
   "source": [
    "def findSecondSmallest (arr):\n",
    "    smallest, smallest2 = arr[0], findLargest(arr)\n",
    "    for i in range(1, len(arr)):\n",
    "        if arr[i] < smallest:\n",
    "            smallest2 = smallest\n",
    "            smallest = arr[i]\n",
    "        elif arr[i] < smallest2 and arr[i] > smallest:\n",
    "            smallest2 = arr[i]\n",
    "    return smallest2"
   ]
  },
  {
   "cell_type": "code",
   "execution_count": 5,
   "id": "5a7a88ac",
   "metadata": {},
   "outputs": [
    {
     "name": "stdout",
     "output_type": "stream",
     "text": [
      "[12, 45, 7, 23, 56, 89]\n",
      "Largest element is 89\n",
      "Second largest element is 56\n",
      "Smallest element is 7\n",
      "Second smallest element is 12\n"
     ]
    }
   ],
   "source": [
    "arr = [12, 45, 7, 23, 56, 89]\n",
    "print(arr)\n",
    "print(f\"Largest element is {findLargest(arr)}\")\n",
    "print(f\"Second largest element is {findSecondLargest(arr)}\")\n",
    "print(f\"Smallest element is {findSmallest(arr)}\")\n",
    "print(f\"Second smallest element is {findSecondSmallest(arr)}\")"
   ]
  }
 ],
 "metadata": {
  "kernelspec": {
   "display_name": "base",
   "language": "python",
   "name": "python3"
  },
  "language_info": {
   "codemirror_mode": {
    "name": "ipython",
    "version": 3
   },
   "file_extension": ".py",
   "mimetype": "text/x-python",
   "name": "python",
   "nbconvert_exporter": "python",
   "pygments_lexer": "ipython3",
   "version": "3.12.4"
  }
 },
 "nbformat": 4,
 "nbformat_minor": 5
}
