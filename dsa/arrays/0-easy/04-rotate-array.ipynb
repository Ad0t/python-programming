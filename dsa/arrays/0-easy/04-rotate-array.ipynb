{
 "cells": [
  {
   "cell_type": "markdown",
   "id": "2c5b77c9",
   "metadata": {},
   "source": [
    "# Rotate the array by 1 step."
   ]
  },
  {
   "cell_type": "code",
   "execution_count": 1,
   "id": "13f779b4",
   "metadata": {},
   "outputs": [],
   "source": [
    "def rotateArray(arr):\n",
    "    temp = arr[0]\n",
    "    for i in range(1, len(arr)):\n",
    "        arr[i-1] = arr[i]\n",
    "    arr[len(arr)-1] = temp"
   ]
  },
  {
   "cell_type": "markdown",
   "id": "399bd96d",
   "metadata": {},
   "source": [
    "# Rotate the array by k steps."
   ]
  },
  {
   "cell_type": "code",
   "execution_count": 6,
   "id": "7c287e81",
   "metadata": {},
   "outputs": [],
   "source": [
    "def rotateArrayByK(arr, k):\n",
    "    n = len(arr)\n",
    "    k = k % len(arr)\n",
    "    temp = [0]*k\n",
    "    for i in range(k):      # stores in temporary array\n",
    "        # [1,2,3,4,5,6,7]\n",
    "        temp[i] = arr[i]\n",
    "\n",
    "    for i in range(k, n):\n",
    "        # arr[4-4] = arr[4], arr[5-4] = arr[5], arr[6-4] = arr[6]\n",
    "        arr[i - k] = arr[i]\n",
    "    \n",
    "    for i in range(n-k, n): # [7-4, 7]\n",
    "        # arr[3] = temp[3-(7-4)], arr[4] = temp[4-(7-4)],..... \n",
    "        arr[i] = temp[i - (n - k)]"
   ]
  },
  {
   "cell_type": "markdown",
   "id": "0539e04f",
   "metadata": {},
   "source": [
    "## Optimized Approach to rotate the array by k steps."
   ]
  },
  {
   "cell_type": "code",
   "execution_count": 3,
   "id": "3d868970",
   "metadata": {},
   "outputs": [],
   "source": [
    "def reverseArray(arr, start, end):\n",
    "    while (start <= end):\n",
    "        temp = arr[start]\n",
    "        arr[start] = arr[end]\n",
    "        arr[end] = temp\n",
    "        start += 1\n",
    "        end -= 1\n",
    "\n",
    "def rotateArrayByKO(arr, k):\n",
    "    reverseArray(arr, 0, (len(arr) - k) - 1)\n",
    "    reverseArray(arr, len(arr) - k, len(arr) - 1)\n",
    "    reverseArray(arr, 0, len(arr) - 1)"
   ]
  },
  {
   "cell_type": "code",
   "execution_count": 14,
   "id": "8710b874",
   "metadata": {},
   "outputs": [
    {
     "name": "stdout",
     "output_type": "stream",
     "text": [
      "Original Array: [1, 2, 3, 4, 5, 6, 7]\n",
      "Rotated Array: [4, 5, 6, 7, 1, 2, 3]\n"
     ]
    }
   ],
   "source": [
    "arr = [1,2,3,4,5,6,7]\n",
    "print(f\"Original Array: {arr}\")\n",
    "# rotateArray(arr)\n",
    "# rotateArrayByK(arr, 4)\n",
    "rotateArrayByKO(arr, 4)\n",
    "print(f\"Rotated Array: {arr}\")"
   ]
  }
 ],
 "metadata": {
  "kernelspec": {
   "display_name": "base",
   "language": "python",
   "name": "python3"
  },
  "language_info": {
   "codemirror_mode": {
    "name": "ipython",
    "version": 3
   },
   "file_extension": ".py",
   "mimetype": "text/x-python",
   "name": "python",
   "nbconvert_exporter": "python",
   "pygments_lexer": "ipython3",
   "version": "3.12.4"
  }
 },
 "nbformat": 4,
 "nbformat_minor": 5
}
