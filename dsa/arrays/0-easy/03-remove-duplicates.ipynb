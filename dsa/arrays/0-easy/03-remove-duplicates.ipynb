{
 "cells": [
  {
   "cell_type": "markdown",
   "id": "7a97945c",
   "metadata": {},
   "source": [
    "# Removing duplicates from the array."
   ]
  },
  {
   "cell_type": "code",
   "execution_count": 4,
   "id": "2c29de17",
   "metadata": {},
   "outputs": [],
   "source": [
    "def removingDupes(arr):\n",
    "    if arr == []:\n",
    "        return 0\n",
    "    i = 0\n",
    "    for j in range(1, len(arr)):\n",
    "        if arr[i] != arr[j]:\n",
    "            i += 1\n",
    "            arr[i] = arr[j]\n",
    "    return i + 1"
   ]
  },
  {
   "cell_type": "code",
   "execution_count": 6,
   "id": "d0becc45",
   "metadata": {},
   "outputs": [
    {
     "name": "stdout",
     "output_type": "stream",
     "text": [
      "[1, 2, 3, 4, 5, 4, 4, 4, 5]\n",
      "5\n",
      "[1, 2, 3, 4, 5]\n"
     ]
    }
   ],
   "source": [
    "arr = [1, 1, 2, 2, 3, 4, 4, 4, 5]\n",
    "new_length = removingDupes(arr)\n",
    "result_array = arr[:new_length]\n",
    "print(arr)  # Output: [1, 2, 3, 4, 5, 4, 4, 4, 5]\n",
    "print(new_length)  # Output: 5\n",
    "print(result_array)  # Output: [1, 2, 3, 4, 5]"
   ]
  }
 ],
 "metadata": {
  "kernelspec": {
   "display_name": "base",
   "language": "python",
   "name": "python3"
  },
  "language_info": {
   "codemirror_mode": {
    "name": "ipython",
    "version": 3
   },
   "file_extension": ".py",
   "mimetype": "text/x-python",
   "name": "python",
   "nbconvert_exporter": "python",
   "pygments_lexer": "ipython3",
   "version": "3.12.4"
  }
 },
 "nbformat": 4,
 "nbformat_minor": 5
}
