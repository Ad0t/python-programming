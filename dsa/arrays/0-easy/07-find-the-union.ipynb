{
 "cells": [
  {
   "cell_type": "markdown",
   "id": "ea2d5b6d",
   "metadata": {},
   "source": [
    "# Union of Two Sorted Arrays\n",
    "\n",
    "Problem Statement: Given two sorted arrays, arr1, and arr2 of size n and m. Find the union of two sorted arrays."
   ]
  }
 ],
 "metadata": {
  "language_info": {
   "name": "python"
  }
 },
 "nbformat": 4,
 "nbformat_minor": 5
}
