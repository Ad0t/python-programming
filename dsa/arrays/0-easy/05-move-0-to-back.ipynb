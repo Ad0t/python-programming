{
 "cells": [
  {
   "cell_type": "markdown",
   "id": "dfcc7145",
   "metadata": {},
   "source": [
    "# Moving 0s to the back of the array."
   ]
  },
  {
   "cell_type": "code",
   "execution_count": 3,
   "id": "565ee869",
   "metadata": {},
   "outputs": [],
   "source": [
    "def moveZeroes(arr):\n",
    "    temp = []\n",
    "    for i in range(len(arr)):\n",
    "        if arr[i] != 0:\n",
    "            temp.append(arr[i])\n",
    "    for i in range(len(temp)):\n",
    "        arr[i] = temp[i]\n",
    "    for i in range(len(temp), len(arr)):\n",
    "        arr[i] = 0\n",
    "    return arr"
   ]
  },
  {
   "cell_type": "code",
   "execution_count": null,
   "id": "57e36015",
   "metadata": {},
   "outputs": [],
   "source": []
  },
  {
   "cell_type": "code",
   "execution_count": 4,
   "id": "74aa1953",
   "metadata": {},
   "outputs": [
    {
     "name": "stdout",
     "output_type": "stream",
     "text": [
      "[1, 2, 4, 5, 2, 0, 0, 0]\n"
     ]
    }
   ],
   "source": [
    "arr = [1, 0, 2, 0, 4, 5, 0, 2]\n",
    "print(moveZeroes(arr))"
   ]
  }
 ],
 "metadata": {
  "kernelspec": {
   "display_name": "base",
   "language": "python",
   "name": "python3"
  },
  "language_info": {
   "codemirror_mode": {
    "name": "ipython",
    "version": 3
   },
   "file_extension": ".py",
   "mimetype": "text/x-python",
   "name": "python",
   "nbconvert_exporter": "python",
   "pygments_lexer": "ipython3",
   "version": "3.12.4"
  }
 },
 "nbformat": 4,
 "nbformat_minor": 5
}
