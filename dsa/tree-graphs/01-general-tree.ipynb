{
 "cells": [
  {
   "cell_type": "markdown",
   "id": "595b891e",
   "metadata": {},
   "source": [
    "# Tree Data Structure\n",
    "- A Tree is a nonlinear data structure that models a hierarchical\n",
    "organization.\n",
    "- The characteristic features are that each element may have\n",
    "several successors (called its “children”) and every element\n",
    "except one (called the “root”) has a unique predecessor\n",
    "(called its “parent”).\n",
    "- Trees are common in computer science: Computer file\n",
    "systems are trees, the inheritance structure for C++/Java\n",
    "classes is a tree.\n",
    "## Terms\n",
    "- Parent Node: The node which is an immediate predecessor of a node is called the parent node of that node.\n",
    "- Child Node: The node which is the immediate successor of a node is called the child node of that node.\n",
    "- Root Node: The topmost node of a tree or the node which does not have any parent node is called the root node. \n",
    "- Leaf Node or External Node: The nodes which do not have any child nodes are called leaf nodes.\n",
    "- Ancestor of a Node: Any predecessor nodes on the path of the root to that node are called Ancestors of that node.\n",
    "- Descendant: A node x is a descendant of another node y if and only if y is an ancestor of x.\n",
    "- Sibling: Children of the same parent node are called siblings. \n",
    "- Level of a node: The count of edges on the path from the root node to that node.\n",
    "- Internal node: A node with at least one child is called Internal Node.\n",
    "- Neighbour of a Node: Parent or child nodes of that node are called neighbors of that node.\n",
    "- Subtree: Any node of the tree along with its descendant.\n"
   ]
  },
  {
   "cell_type": "markdown",
   "id": "09d8cf74",
   "metadata": {},
   "source": []
  }
 ],
 "metadata": {
  "language_info": {
   "name": "python"
  }
 },
 "nbformat": 4,
 "nbformat_minor": 5
}
