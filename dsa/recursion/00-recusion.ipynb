{
 "cells": [
  {
   "cell_type": "markdown",
   "id": "fb3b8fc5",
   "metadata": {},
   "source": [
    "# Recursion\n",
    "The **process** in which a **function calls itself directly or indirectly** is called **recursion** and the **corresponding function** is called a **recursive function**.\n",
    "- A recursive algorithm takes **one step toward solution** and then **recursively call itself to further move**. The algorithm **stops once we reach** the solution.\n",
    "- Since called function may further call itself, this process **might continue forever**. So it is **essential to provide a base case** to **terminate** this recursion process.\n",
    "\n",
    "## Need of Recursion\n",
    "- Recursion helps in logic building. Recursive thinking helps in **solving complex problems** by **breaking them into smaller subproblems**.\n",
    "- Recursive solutions work as a **basis** for **Dynamic Programming** and **Divide and Conquer algorithms**.\n",
    "- Certain problems can be solved quite easily using recursion like **Towers of Hanoi (TOH), Inorder/Preorder/Postorder Tree Traversals, DFS of Graph**, etc.\n",
    "\n",
    "### Steps to Implement Recursion\n",
    "1. **Define a base case**: Identify the simplest (or base) case for which the solution is known or trivial. This is the stopping condition for the recursion, as it prevents the function from infinitely calling itself.\n",
    "2. **Define a recursive case**: Define the problem in terms of smaller subproblems. Break the problem down into smaller versions of itself, and call the function recursively to solve each subproblem.\n",
    "3. **Ensure the recursion terminates**: Make sure that the recursive function eventually reaches the base case, and does not enter an infinite loop.\n",
    "4. **Combine the solutions**: Combine the solutions of the subproblems to solve the original problem.\n",
    "\n",
    "### Comparison of Recursive and Iterative Approaches\n",
    "| Approach | Complexity\t| Memory Usage |\n",
    "| -------- | ---------- | ------------ |\n",
    "| Iterative Approach |\tO(n) |\tO(1) |\n",
    "| Recursive Approach |\tO(n) |\tO(n) |\n",
    "\n",
    "#### What is the base condition in recursion? \n",
    "A recursive program stops at a base condition. There can be more than one base conditions in a recursion. In the above program, the base condition is when n = 1.\n",
    "\n",
    "#### How a particular problem is solved using recursion? \n",
    "The idea is to represent a problem in terms of one or more smaller problems, and add one or more base conditions that stop the recursion.\n",
    "\n",
    "#### What is the difference between direct and indirect recursion? \n",
    "A function is called **direct recursive** if it calls itself directly during its execution. In other words, the function makes a recursive call to itself within its own body.  \n",
    "An **indirect recursive** function is one that calls another function, and that other function, in turn, calls the original function either directly or through other functions. This creates a chain of recursive calls involving multiple functions, as opposed to direct recursion, where a function calls itself.\n",
    "\n",
    "### Recursion VS Iteration\n",
    "\n",
    "| SR No. |\tRecursion |\tIteration |\n",
    "| ------ | ---------- | --------- |\n",
    "| 1 |\tTerminates when the base case becomes true. |\tTerminates when the loop condition becomes false. |\n",
    "| 2 |\tLogic is built in terms of smaller problems. |\tLogic is built using iterating over something. |\n",
    "| 3 |\tEvery recursive call needs extra space in the stack memory. |\tEvery iteration does not require any extra space. |\n",
    "| 4 |\tSmaller code size. |\tLarger code size. |"
   ]
  }
 ],
 "metadata": {
  "language_info": {
   "name": "python"
  }
 },
 "nbformat": 4,
 "nbformat_minor": 5
}
