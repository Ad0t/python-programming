{
 "cells": [
  {
   "cell_type": "markdown",
   "id": "cd6c4846",
   "metadata": {},
   "source": [
    "# Bucket Sort\n",
    "Bucket sort is a sorting technique that involves dividing elements into various groups, or buckets. These buckets are formed by uniformly distributing the elements. Once the elements are divided into buckets, they can be sorted using any other sorting algorithm. Finally, the sorted elements are gathered together in an ordered fashion.\n",
    "\n",
    "## Bucket Sort Algorithm:\n",
    "Create n empty buckets (Or lists) and do the following for every array element arr[i].\n",
    "- Insert arr[i] into bucket[n*array[i]]\n",
    "- Sort individual buckets using insertion sort.\n",
    "- Concatenate all sorted buckets.\n",
    "##### OR\n",
    "- Create an array of empty buckets.\n",
    "- Iterate through the input array and distribute each element into the corresponding bucket based on some criteria.\n",
    "- Sort each bucket individually (using another sorting algorithm or recursively applying bucket sort).\n",
    "- Concatenate all the sorted buckets to get the final sorted array."
   ]
  },
  {
   "cell_type": "code",
   "execution_count": 2,
   "id": "31cbc7f2",
   "metadata": {},
   "outputs": [
    {
     "name": "stdout",
     "output_type": "stream",
     "text": [
      "Unsorted Array: [0.78, 0.17, 0.39, 0.26, 0.94, 0.21, 0.12, 0.23, 0.68]\n",
      "Sorted Array:[0.12, 0.17, 0.21, 0.23, 0.26, 0.39, 0.68, 0.78, 0.94]\n"
     ]
    }
   ],
   "source": [
    "def insertionSort(arr):\n",
    "    for i in range(1, len(arr)):\n",
    "        j = i\n",
    "        while j > 0 and arr[j] < arr[j - 1]:\n",
    "            arr[j], arr[j - 1] = arr[j - 1], arr[j]\n",
    "            j -= 1\n",
    "    return arr\n",
    "\n",
    "def bucketSort(arr):\n",
    "    n = len(arr)\n",
    "    buckets = [[] for i in range(n)]\n",
    "    \n",
    "    for i in range(0, n):\n",
    "        buckets[int(arr[i]*n)].append(arr[i])\n",
    "    \n",
    "    # for i in range(len(buckets)):\n",
    "    #     print(f\"B[{i}] = {buckets[i]}\")\n",
    "\n",
    "    for i in range(n):\n",
    "        insertionSort(buckets[i])\n",
    "\n",
    "    # print(f\"\\n\\n after sorting\\n\")\n",
    "    # for i in range(len(buckets)):\n",
    "    #     print(f\"B[{i}] = {buckets[i]}\")\n",
    "    \n",
    "    res = []\n",
    "    for i in buckets:\n",
    "        res.extend(i)\n",
    "    return res\n",
    "\n",
    "if __name__ == \"__main__\":\n",
    "    arr = [0.78, 0.17, 0.39, 0.26, 0.94, 0.21, 0.12, 0.23, 0.68]\n",
    "    print(f\"Unsorted Array: {arr}\")\n",
    "    arr = bucketSort(arr)\n",
    "    print(f\"Sorted Array:{arr}\")"
   ]
  },
  {
   "cell_type": "markdown",
   "id": "460cc302",
   "metadata": {},
   "source": [
    "## Complexity Analysis of Bucket Sort Algorithm\n",
    "### Time Complexity: \n",
    "- O(n²),  \n",
    "    - If we assume that insertion in a bucket takes O(1) time then steps 1 and 2 of the above algorithm clearly take O(n) time.\n",
    "    - The O(1) is easily possible if we use a linked list to represent a bucket.\n",
    "    - Step 4 also takes O(n) time as there will be n items in all buckets. \n",
    "    - The main step to analyze is step 3. This step also takes O(n) time on average if all numbers are uniformly distributed.\n",
    "### Auxiliary Space:\n",
    "- O(n+k)"
   ]
  }
 ],
 "metadata": {
  "kernelspec": {
   "display_name": "base",
   "language": "python",
   "name": "python3"
  },
  "language_info": {
   "codemirror_mode": {
    "name": "ipython",
    "version": 3
   },
   "file_extension": ".py",
   "mimetype": "text/x-python",
   "name": "python",
   "nbconvert_exporter": "python",
   "pygments_lexer": "ipython3",
   "version": "3.12.4"
  }
 },
 "nbformat": 4,
 "nbformat_minor": 5
}
