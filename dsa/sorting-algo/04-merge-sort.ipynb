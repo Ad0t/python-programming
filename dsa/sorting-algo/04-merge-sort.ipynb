{
 "cells": [
  {
   "cell_type": "markdown",
   "id": "c50786d5",
   "metadata": {},
   "source": [
    "# Let's understand merging first\n",
    "Merging is the process of combining 2 sorted list/array such a way that the resultant list/array is also in sorted array."
   ]
  },
  {
   "cell_type": "code",
   "execution_count": 2,
   "id": "df096e85",
   "metadata": {},
   "outputs": [
    {
     "name": "stdout",
     "output_type": "stream",
     "text": [
      "[1, 2, 3, 4, 5, 6, 7, 8, 9, 10, 11, 12]\n"
     ]
    }
   ],
   "source": [
    "a = [1,3,5,7]\n",
    "b = [2,4,6,8, 9,10,11,12]\n",
    "def merging(a,b):\n",
    "    res = []\n",
    "    i, j= 0, 0\n",
    "    '''\n",
    "    loop runs till one of the list is exhausted, by append \n",
    "    '''\n",
    "    while i < len(a) and j < len(b):\n",
    "        if a[i] < b[j]:\n",
    "            res.append(a[i])\n",
    "            i+=1\n",
    "        else:\n",
    "            res.append(b[j])\n",
    "            j+=1\n",
    "\n",
    "    if i == len(a):\n",
    "        for m in b[j:]:\n",
    "            res.append(m)\n",
    "    elif j == len(b):\n",
    "        for m in a[i:]:\n",
    "            res.append(m)\n",
    "    return res\n",
    "print(merging(a,b))"
   ]
  },
  {
   "cell_type": "markdown",
   "id": "ee1c84fe",
   "metadata": {},
   "source": [
    "# Merge Sort\n",
    "Merge sort is a popular sorting algorithm known for its efficiency and stability. It follows the divide-and-conquer approach. It works by recursively dividing the input array into two halves, recursively sorting the two halves and finally merging them back together to obtain the sorted array.\n",
    "1. *Divide*:  Divide the list or array recursively into two halves until it can no more be divided. \n",
    "2. *Conquer*:  Each subarray is sorted individually using the merge sort algorithm. \n",
    "3. *Merge*:  The sorted subarrays are merged back together in sorted order. The process continues until all elements from both subarrays have been merged. "
   ]
  },
  {
   "cell_type": "code",
   "execution_count": 3,
   "id": "575943c4",
   "metadata": {},
   "outputs": [
    {
     "name": "stdout",
     "output_type": "stream",
     "text": [
      "Before sorting: [22, 32, 12, 64, 31, 15, 50]\n",
      "After sorting: [12, 15, 22, 31, 32, 50, 64]\n"
     ]
    }
   ],
   "source": [
    "def merge(arr, low, mid, high):\n",
    "    temp = []\n",
    "    left, right = low, mid + 1\n",
    "    while (left <= mid and right <= high):\n",
    "        if arr[left] <= arr[right]:\n",
    "            temp.append(arr[left])\n",
    "            left+=1\n",
    "        else:\n",
    "            temp.append(arr[right])\n",
    "            right+=1\n",
    "    while left <= mid:\n",
    "        temp.append(arr[left])\n",
    "        left+=1\n",
    "    while right <= high:\n",
    "        temp.append(arr[right])\n",
    "        right+=1\n",
    "    for i in range(low, high+1):\n",
    "        arr[i] = temp[i-low]\n",
    "\n",
    "\n",
    "def mergeSort(arr, low, high):\n",
    "    if (low >= high):\n",
    "        return\n",
    "    mid = (low+high) // 2\n",
    "    mergeSort(arr, low, mid)\n",
    "    mergeSort(arr, mid+1, high)\n",
    "    merge(arr, low, mid, high)\n",
    "\n",
    "if __name__ == '__main__':\n",
    "    arr = [22, 32, 12, 64, 31, 15, 50]\n",
    "    print(f\"Before sorting: {arr}\")\n",
    "    low, high = 0, len(arr) - 1\n",
    "    mergeSort(arr, low, high)\n",
    "    print(f\"After sorting: {arr}\")"
   ]
  },
  {
   "cell_type": "markdown",
   "id": "95698876",
   "metadata": {},
   "source": [
    "## Complexity Analysis of Merge Sort\n",
    "### Time Complexity:\n",
    "- Best Case: O(n log n), When the array is already sorted or nearly sorted.\n",
    "- Average Case: O(n log n), When the array is randomly ordered.\n",
    "- Worst Case: O(n log n), When the array is sorted in reverse order.\n",
    "### Auxiliary Space: \n",
    "- O(n), Additional space is required for the temporary array used during merging.\n",
    "\n",
    "## Advantages of Merge Sort\n",
    "- Stability : Merge sort is a stable sorting algorithm, which means it maintains the relative order of equal elements in the input array.\n",
    "- Guaranteed worst-case performance: Merge sort has a worst-case time complexity of O(N logN) , which means it performs well even on large datasets.\n",
    "- Simple to implement: The divide-and-conquer approach is straightforward.\n",
    "- Naturally Parallel : We independently merge subarrays that makes it suitable for parallel processing.\n",
    "\n",
    "## Disadvantages of Merge Sort\n",
    "- Space complexity: Merge sort requires additional memory to store the merged sub-arrays during the sorting process.\n",
    "- Not in-place: Merge sort is not an in-place sorting algorithm, which means it requires additional memory to store the sorted data. This can be a disadvantage in applications where memory usage is a concern.\n",
    "- Merge Sort is Slower than QuickSort in general as QuickSort is more cache friendly because it works in-place.\n",
    "\n",
    "## Applications of Merge Sort:\n",
    "- Sorting large datasets\n",
    "- External sorting (when the dataset is too large to fit in memory)\n",
    "- Inversion counting\n",
    "- Merge Sort and its variations are used in library methods of programming languages.\n",
    "    - Its variation TimSort is used in Python, Java Android and Swift. The main reason why it is preferred to sort non-primitive types is stability which is not there in QuickSort.\n",
    "    - Arrays.sort in Java uses QuickSort while Collections.sort uses MergeSort.\n",
    "- It is a preferred algorithm for sorting Linked lists.\n",
    "- It can be easily parallelized as we can independently sort subarrays and then merge.\n",
    "- The merge function of merge sort to efficiently solve the problems like union and intersection of two sorted arrays."
   ]
  }
 ],
 "metadata": {
  "kernelspec": {
   "display_name": "base",
   "language": "python",
   "name": "python3"
  },
  "language_info": {
   "codemirror_mode": {
    "name": "ipython",
    "version": 3
   },
   "file_extension": ".py",
   "mimetype": "text/x-python",
   "name": "python",
   "nbconvert_exporter": "python",
   "pygments_lexer": "ipython3",
   "version": "3.12.4"
  }
 },
 "nbformat": 4,
 "nbformat_minor": 5
}
