{
 "cells": [
  {
   "cell_type": "markdown",
   "id": "d565cefe",
   "metadata": {},
   "source": [
    "# Selection Sort\n",
    "Selection Sort is a comparison-based sorting algorithm. It sorts an array by repeatedly selecting the smallest (or largest) element from the unsorted portion and swapping it with the first unsorted element. This process continues until the entire array is sorted.\n",
    "1. First we find the smallest element and swap it with the first element. This way we get the smallest element at its correct position.\n",
    "2. Then we find the smallest among remaining elements (or second smallest) and swap it with the second element.\n",
    "3. We keep doing this until we get all elements moved to correct position.\n"
   ]
  },
  {
   "cell_type": "code",
   "execution_count": 10,
   "id": "315ff11a",
   "metadata": {},
   "outputs": [
    {
     "name": "stdout",
     "output_type": "stream",
     "text": [
      "Before sorting: [22, 32, 12, 64, 31, 15, 12, 50]\n",
      "\n",
      "STEPS:\n",
      "[] - [22, 32, 12, 64, 31, 15, 12, 50]\n",
      "[12] - [32, 22, 64, 31, 15, 12, 50]\n",
      "[12, 12] - [22, 64, 31, 15, 32, 50]\n",
      "[12, 12, 15] - [64, 31, 22, 32, 50]\n",
      "[12, 12, 15, 22] - [31, 64, 32, 50]\n",
      "[12, 12, 15, 22, 31] - [64, 32, 50]\n",
      "[12, 12, 15, 22, 31, 32] - [64, 50]\n",
      "[12, 12, 15, 22, 31, 32, 50] - [64]\n",
      "[12, 12, 15, 22, 31, 32, 50, 64] \n",
      "\n",
      "After sorting: [12, 12, 15, 22, 31, 32, 50, 64]\n"
     ]
    }
   ],
   "source": [
    "def selectionSort(arr):\n",
    "    print(\"\\nSTEPS:\")\n",
    "    for i in range(len(arr)):\n",
    "        min = i\n",
    "        for j in range(i+1, len(arr)):\n",
    "            if arr[j] < arr[min]:\n",
    "                min = j\n",
    "        print(f\"{arr[:i]} - {arr[i:]}\")\n",
    "        arr[i], arr[min] = arr[min], arr[i]\n",
    "    print(arr,\"\\n\")\n",
    "    return arr\n",
    "\n",
    "if __name__ == '__main__':\n",
    "    arr = [22, 32, 12, 64, 31, 15, 12, 50]\n",
    "    print(f\"Before sorting: {arr}\")\n",
    "    selectionSort(arr)\n",
    "    print(f\"After sorting: {arr}\")"
   ]
  },
  {
   "cell_type": "markdown",
   "id": "b07f9baf",
   "metadata": {},
   "source": [
    "## Complexity Analysis of Selection Sort\n",
    "### Time Complexity: \n",
    "- O(n²)\n",
    "### Auxiliary Space: \n",
    "- O(1) as the only extra memory used is for temporary variables.\n",
    "\n",
    "## Advantages of Selection Sort\n",
    "- Easy to understand and implement, making it ideal for teaching basic sorting concepts.\n",
    "- Requires only a constant O(1) extra memory space.\n",
    "- It requires less number of swaps (or memory writes) compared to many other standard algorithms. Only cycle sort beats it in terms of memory writes. Therefore it can be simple algorithm choice when memory writes are costly.\n",
    "\n",
    "## Disadvantages of the Selection Sort\n",
    "- Selection sort has a time complexity of O(n²) makes it slower compared to algorithms like Quick Sort or Merge Sort.\n",
    "- Does not maintain the relative order of equal elements which means it is not stable.\n",
    "\n",
    "## Applications of Selection Sort\n",
    "- Perfect for teaching fundamental sorting mechanisms and algorithm design.\n",
    "- Suitable for small lists where the overhead of more complex algorithms isn’t justified and memory writing is costly as it requires less memory writes compared to other standard sorting algorithms.\n",
    "- Heap Sort algorithm is based on Selection Sort."
   ]
  },
  {
   "cell_type": "markdown",
   "id": "f911719f",
   "metadata": {},
   "source": [
    "## Questions\n",
    "#### 1. Is Selection Sort a stable sorting algorithm?\n",
    "No, Selection Sort is not stable as it may change the relative order of equal elements.\n",
    "\n",
    "#### 2. What is the time complexity of Selection Sort?\n",
    "Selection Sort has a time complexity of O(n^2) in the best, average, and worst cases.\n",
    "\n",
    "#### 3. Does Selection Sort require extra memory?\n",
    "No, Selection Sort is an in-place sorting algorithm and requires only O(1) additional space.\n",
    "\n",
    "#### 4. When is it best to use Selection Sort?\n",
    "Selection Sort is best used for small datasets, educational purposes, or when memory usage needs to be minimal.\n",
    "\n",
    "#### 5. How does Selection Sort differ from Bubble Sort?\n",
    "Selection Sort selects the minimum element and places it in the correct position with fewer swaps, while Bubble Sort repeatedly swaps adjacent elements to sort the array."
   ]
  }
 ],
 "metadata": {
  "kernelspec": {
   "display_name": "base",
   "language": "python",
   "name": "python3"
  },
  "language_info": {
   "codemirror_mode": {
    "name": "ipython",
    "version": 3
   },
   "file_extension": ".py",
   "mimetype": "text/x-python",
   "name": "python",
   "nbconvert_exporter": "python",
   "pygments_lexer": "ipython3",
   "version": "3.12.4"
  }
 },
 "nbformat": 4,
 "nbformat_minor": 5
}
