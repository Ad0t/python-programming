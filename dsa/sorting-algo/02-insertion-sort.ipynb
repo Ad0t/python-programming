{
 "cells": [
  {
   "cell_type": "markdown",
   "id": "dcc8c8b8",
   "metadata": {},
   "source": [
    "# Insertion Sort\n",
    "Insertion sort is a simple sorting algorithm that works by iteratively inserting each element of an unsorted list into its correct position in a sorted portion of the list. It is like sorting playing cards in your hands. You split the cards into two groups: the sorted cards and the unsorted cards. Then, you pick a card from the unsorted group and put it in the right place in the sorted group.\n",
    "\n",
    "1. We start with the second element of the array as the first element is assumed to be sorted.\n",
    "2. Compare the second element with the first element if the second element is smaller then swap them.\n",
    "3. Move to the third element, compare it with the first two elements, and put it in its correct position\n",
    "4. Repeat until the entire array is sorted."
   ]
  },
  {
   "cell_type": "code",
   "execution_count": 16,
   "id": "510952d5",
   "metadata": {},
   "outputs": [
    {
     "name": "stdout",
     "output_type": "stream",
     "text": [
      "Before sorting: [22, 32, 12, 64, 31, 15, 50]\n",
      "\n",
      "First is always sorted then add a new element to the sorted part and put it in the right order.\n",
      "\n",
      "STEPS:\n",
      "Sorted - New - Unsorted\n",
      "[22, 32, 12, 64, 31, 15, 50] \n",
      "\n",
      "[22, 32] - 12 - [64, 31, 15, 50]\n",
      "[22] - 12 - [32, 64, 31, 15, 50]\n",
      "[12, 22, 32, 64, 31, 15, 50] \n",
      "\n",
      "[12, 22, 32, 64, 31, 15, 50] \n",
      "\n",
      "[12, 22, 32, 64] - 31 - [15, 50]\n",
      "[12, 22, 32] - 31 - [64, 15, 50]\n",
      "[12, 22, 31, 32, 64, 15, 50] \n",
      "\n",
      "[12, 22, 31, 32, 64] - 15 - [50]\n",
      "[12, 22, 31, 32] - 15 - [64, 50]\n",
      "[12, 22, 31] - 15 - [32, 64, 50]\n",
      "[12, 22] - 15 - [31, 32, 64, 50]\n",
      "[12, 15, 22, 31, 32, 64, 50] \n",
      "\n",
      "[12, 15, 22, 31, 32, 64] - 50 - []\n",
      "[12, 15, 22, 31, 32, 50, 64] \n",
      "\n",
      "After sorting: [12, 15, 22, 31, 32, 50, 64]\n"
     ]
    }
   ],
   "source": [
    "def insertionSort(arr):\n",
    "    print(\"\\nFirst is always sorted then add a new element to the sorted part and put it in the right order.\\n\\nSTEPS:\\nSorted - New - Unsorted\")\n",
    "    for i in range(1, len(arr)):\n",
    "        j = i\n",
    "        while j > 0 and arr[j] < arr[j - 1]:\n",
    "            print(f\"{arr[:j]} - {arr[j]} - {arr[j+1:]}\")\n",
    "            arr[j], arr[j - 1] = arr[j - 1], arr[j]\n",
    "            j -= 1\n",
    "        print(arr,\"\\n\")\n",
    "    return arr\n",
    "\n",
    "if __name__ == '__main__':\n",
    "    arr = [22, 32, 12, 64, 31, 15, 50]\n",
    "    print(f\"Before sorting: {arr}\")\n",
    "    insertionSort(arr)\n",
    "    print(f\"After sorting: {arr}\")"
   ]
  },
  {
   "cell_type": "markdown",
   "id": "0fa747bb",
   "metadata": {},
   "source": [
    "## Complexity Analysis of Insertion Sort\n",
    "### Time Complexity:\n",
    "- Best case: O(n), If the list is already sorted, where n is the number of elements in the list.\n",
    "- Average case: O(n²), If the list is randomly ordered\n",
    "- Worst case: O(n²), If the list is in reverse order\n",
    "### Space Complexity\n",
    "- Auxiliary Space: O(1), Insertion sort requires O(1) additional space, making it a space-efficient sorting algorithm.\n",
    "\n",
    "## Advantages of Insertion Sort\n",
    "- Simple and easy to implement.\n",
    "- Stable sorting algorithm.\n",
    "- Efficient for small lists and nearly sorted lists.\n",
    "- Space-efficient as it is an in-place algorithm.\n",
    "- Adoptive. the number of inversions is directly proportional to number of swaps. For example, no swapping happens for a sorted array and it takes O(n) time only.\n",
    "\n",
    "## Disadvantages of Insertion Sort\n",
    "- Inefficient for large lists.\n",
    "- Not as efficient as other sorting algorithms (e.g., merge sort, quick sort) for most cases.\n",
    "\n",
    "## Applications of Insertion Sort\n",
    "Insertion sort is commonly used in situations where:\n",
    "- The list is small or nearly sorted.\n",
    "- Simplicity and stability are important.\n",
    "- Used as a subroutine in Bucket Sort\n",
    "- Can be useful when array is already almost sorted (very few inversions)\n",
    "- Since Insertion sort is suitable for small sized arrays, it is used in Hybrid Sorting algorithms along with other efficient algorithms like Quick Sort and Merge Sort. When the subarray size becomes small, we switch to insertion sort in these recursive algorithms. For example IntroSort and TimSort use insertions sort."
   ]
  },
  {
   "cell_type": "markdown",
   "id": "18d43b2c",
   "metadata": {},
   "source": [
    "## Questions\n",
    "#### 1. What are the Boundary Cases of the Insertion Sort algorithm?\n",
    "Insertion sort takes the maximum time to sort if elements are sorted in reverse order. And it takes minimum time (Order of n) when elements are already sorted. \n",
    "\n",
    "#### 2. What is the Algorithmic Paradigm of the Insertion Sort algorithm?\n",
    "The Insertion Sort algorithm follows an incremental approach. \n",
    "\n",
    "#### 3. Is Insertion Sort an in-place sorting algorithm?\n",
    "Yes, insertion sort is an in-place sorting algorithm. \n",
    "\n",
    "#### 4. Is Insertion Sort a stable algorithm?\n",
    "Yes, insertion sort is a stable sorting algorithm. \n",
    "\n",
    "#### 5. When is the Insertion Sort algorithm used?\n",
    "Insertion sort is used when number of elements is small. It can also be useful when the input array is almost sorted, and only a few elements are misplaced in a complete big array. \n",
    "\n"
   ]
  }
 ],
 "metadata": {
  "kernelspec": {
   "display_name": "base",
   "language": "python",
   "name": "python3"
  },
  "language_info": {
   "codemirror_mode": {
    "name": "ipython",
    "version": 3
   },
   "file_extension": ".py",
   "mimetype": "text/x-python",
   "name": "python",
   "nbconvert_exporter": "python",
   "pygments_lexer": "ipython3",
   "version": "3.12.4"
  }
 },
 "nbformat": 4,
 "nbformat_minor": 5
}
