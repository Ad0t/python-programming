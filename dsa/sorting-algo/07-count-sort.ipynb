{
 "cells": [
  {
   "cell_type": "markdown",
   "id": "921795e8",
   "metadata": {},
   "source": [
    "# Count Sort\n",
    "Counting Sort is a non-comparison-based sorting algorithm. It is particularly efficient when the range of input values is small compared to the number of elements to be sorted. The basic idea behind Counting Sort is to count the frequency of each distinct element in the input array and use that information to place the elements in their correct sorted positions.\n",
    "- Declare an auxiliary array `countArray[]` of size `max(inputArray[])+1` and initialize it with 0.\n",
    "- Traverse array `inputArray[]` and map each element of inputArray[] as an index of countArray[] array, i.e., execute `countArray[inputArray[i]]++` for 0 <= i < N.\n",
    "- Calculate the prefix sum at every index of array inputArray[].\n",
    "- Create an array outputArray[] of size N.\n",
    "- Traverse array inputArray[] from end and update `outputArray[countArray[inputArray[i]]–1] = inputArray[i]`. Also, update `countArray[inputArray[i]] = countArray[inputArray[i]]- 1`."
   ]
  },
  {
   "cell_type": "code",
   "execution_count": 17,
   "id": "b1f22cfa",
   "metadata": {},
   "outputs": [
    {
     "name": "stdout",
     "output_type": "stream",
     "text": [
      "Before sorting: [4, 1, 2, 4, 5, 2, 3]\n",
      "\n",
      "Steps:\n",
      "Filled count: [0, 0, 0, 0, 0, 0]\n",
      "Frequency: [0, 1, 2, 1, 2, 1]\n",
      "Prefix sum: [0, 1, 3, 4, 6, 7]\n",
      "\n",
      "Placing 3 at position 3.\t PrefixSum[3] - 1 = 4 - 1 = 3\n",
      "Placing 2 at position 2.\t PrefixSum[2] - 1 = 3 - 1 = 2\n",
      "Placing 5 at position 6.\t PrefixSum[5] - 1 = 7 - 1 = 6\n",
      "Placing 4 at position 5.\t PrefixSum[4] - 1 = 6 - 1 = 5\n",
      "Placing 2 at position 1.\t PrefixSum[2] - 1 = 2 - 1 = 1\n",
      "Placing 1 at position 0.\t PrefixSum[1] - 1 = 1 - 1 = 0\n",
      "Placing 4 at position 4.\t PrefixSum[4] - 1 = 5 - 1 = 4\n",
      "\n",
      "After sorting: [1, 2, 2, 3, 4, 4, 5]\n"
     ]
    }
   ],
   "source": [
    "def find_max(arr):\n",
    "    max = arr[0]\n",
    "    for i in range(len(arr)):\n",
    "        if arr[i] > max:\n",
    "            max = arr[i]\n",
    "    return max\n",
    "\n",
    "def count_sort(inputArray):\n",
    "    print(\"\\nSteps:\")\n",
    "    max = find_max(inputArray)\n",
    "\n",
    "    # Filling count array of length max+1\n",
    "    countArray = [0]*(max+1)\n",
    "    \n",
    "    print(f\"Filled count: {countArray}\")\n",
    "\n",
    "    # Traversing through to find frequency\n",
    "    for i in range(len(inputArray)):\n",
    "        countArray[inputArray[i]] += 1\n",
    "\n",
    "    print(f\"Frequency: {countArray}\")\n",
    "\n",
    "    # Taking prefix sum\n",
    "    for i in range(1,len(countArray)):\n",
    "        countArray[i] += countArray[i-1]\n",
    "    \n",
    "    print(f\"Prefix sum: {countArray}\")\n",
    "    print()\n",
    "    outputArray = [0]*(len(inputArray))\n",
    "    for i in range(len(inputArray)-1, -1, -1):\n",
    "        print(f\"Placing {inputArray[i]} at position {countArray[inputArray[i]] - 1}.\\t PrefixSum[{inputArray[i]}] - 1 = {countArray[inputArray[i]]} - 1 = {countArray[inputArray[i]]-1}\")\n",
    "        outputArray[countArray[inputArray[i]] - 1] = inputArray[i]\n",
    "        countArray[inputArray[i]] -= 1\n",
    "    print()\n",
    "\n",
    "    # print(f\"Output: {output}\")\n",
    "    return outputArray\n",
    "\n",
    "        \n",
    "if __name__ == \"__main__\":\n",
    "    # arr= [1,2,3,4,5,6,6,3,9,2,3,4]\n",
    "    arr = [4,1,2,4,5,2,3]\n",
    "    # arr = [22, 32, 12, 64, 31, 15, 50]\n",
    "    print(f\"Before sorting: {arr}\")\n",
    "    arr = count_sort(arr)\n",
    "    print(f\"After sorting: {arr}\")"
   ]
  },
  {
   "cell_type": "markdown",
   "id": "b8a65380",
   "metadata": {},
   "source": [
    "## Complexity Analysis of Counting Sort:\n",
    "### Time Complexity: \n",
    "O(N+M), where N and M are the size of inputArray[] and countArray[] respectively.\n",
    "- Worst-case: O(N+M).\n",
    "- Average-case: O(N+M).\n",
    "- Best-case: O(N+M).\n",
    "### Auxiliary Space: \n",
    "- O(N+M), where N and M are the space taken by outputArray[] and countArray[] respectively.\n",
    "\n",
    "## Advantage of Counting Sort:\n",
    "- Counting sort generally performs faster than all comparison-based sorting algorithms, such as merge sort and quicksort, if the range of input is of the order of the number of input.\n",
    "- Counting sort is easy to code\n",
    "- Counting sort is a stable algorithm.\n",
    "\n",
    "## Disadvantage of Counting Sort:\n",
    "- Counting sort doesn’t work on decimal values.\n",
    "- Counting sort is inefficient if the range of values to be sorted is very large.\n",
    "- Counting sort is not an In-place sorting algorithm, It uses extra space for sorting the array elements.\n",
    "\n",
    "## Applications of Counting Sort:\n",
    "- It is a commonly used algorithm for the cases where we have limited range items. For example, sort students by grades, sort a events by time, days, months, years, etc\n",
    "- It is used as a subroutine in Radix Sort\n",
    "- The idea of counting sort is used in Bucket Sort to divide elements into different buckets."
   ]
  }
 ],
 "metadata": {
  "kernelspec": {
   "display_name": "base",
   "language": "python",
   "name": "python3"
  },
  "language_info": {
   "codemirror_mode": {
    "name": "ipython",
    "version": 3
   },
   "file_extension": ".py",
   "mimetype": "text/x-python",
   "name": "python",
   "nbconvert_exporter": "python",
   "pygments_lexer": "ipython3",
   "version": "3.12.4"
  }
 },
 "nbformat": 4,
 "nbformat_minor": 5
}
