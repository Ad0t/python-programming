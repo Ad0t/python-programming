{
 "cells": [
  {
   "cell_type": "markdown",
   "id": "1a66f7a8",
   "metadata": {},
   "source": [
    "# Quick Sort\n",
    "QuickSort is a sorting algorithm based on the Divide and Conquer that picks an element as a pivot and partitions the given array around the picked pivot by placing the pivot in its correct position in the sorted array.  \n",
    "It works on the principle of divide and conquer, breaking down the problem into smaller sub-problems.  \n",
    "There are mainly three steps in the algorithm:\n",
    "1. Choose a Pivot: Select an element from the array as the pivot. The choice of pivot can vary (e.g., first element, last element, random element, or median).\n",
    "2. Partition the Array: Rearrange the array around the pivot. After partitioning, all elements smaller than the pivot will be on its left, and all elements greater than the pivot will be on its right. The pivot is then in its correct position, and we obtain the index of the pivot.\n",
    "3. Recursively Call: Recursively apply the same process to the two partitioned sub-arrays (left and right of the pivot).\n",
    "4. Base Case: The recursion stops when there is only one element left in the sub-array, as a single element is already sorted.\n",
    "\n",
    "## Choice of Pivot\n",
    "There are many different choices for picking pivots.\n",
    "- Always pick the first (or last) element as a pivot. The below implementation picks the last element as pivot. The problem with this approach is it ends up in the worst case when array is already sorted.\n",
    "- Pick a random element as a pivot. This is a preferred approach because it does not have a pattern for which the worst case happens.\n",
    "- Pick the median element is pivot. This is an ideal approach in terms of time complexity as we can find median in linear time and the partition function will always divide the input array into two halves. But it takes more time on average as median finding has high constants.\n",
    "\n",
    "## Partition Algorithm\n",
    "The key process in quickSort is a partition(). There are three common algorithms to partition. All these algorithms have O(n) time complexity.\n",
    "- Naive Partition: Here we create copy of the array. First put all smaller elements and then all greater. Finally we copy the temporary array back to original array. This requires O(n) extra space.\n",
    "- Lomuto Partition: We have used this partition in this article. This is a simple algorithm, we keep track of index of smaller elements and keep swapping. We have used it here in this article because of its simplicity.\n",
    "- Hoare’s Partition: This is the fastest of all. Here we traverse array from both sides and keep swapping greater element on left with smaller on right while the array is not partitioned. Please refer Hoare’s vs Lomuto for details.\n",
    "\n",
    "## Comparison between Lomuto and Hoare\n",
    "- Hoare’s scheme is more efficient than Lomuto’s partition scheme because it does three times fewer swaps on average, and it creates efficient partitions even when all values are equal.\n",
    "- Like Lomuto’s partition scheme, Hoare partitioning also causes Quick sort to degrade to O(n^2) when the input array is already sorted, it also doesn’t produce a stable sort.\n",
    "- Note that in this scheme, the pivot’s final location is not necessarily at the index that was returned, and the next two segments that the main algorithm recurs on are (lo..p) and (p+1..hi) as opposed to (lo..p-1) and (p+1..hi) as in Lomuto’s scheme.\n",
    "- Both Hoare’s Partition, as well as Lomuto’s partition, are unstable.\n",
    "\n",
    "### Lomuto Partition Scheme: Last element\n",
    "### Hoare Partition Scheme: First element"
   ]
  },
  {
   "cell_type": "code",
   "execution_count": 2,
   "id": "0aad2663",
   "metadata": {},
   "outputs": [
    {
     "name": "stdout",
     "output_type": "stream",
     "text": [
      "Before sorting: [22, 32, 12, 64, 31, 15, 50]\n",
      "After sorting: [15, 12, 22, 31, 32, 50, 64]\n"
     ]
    }
   ],
   "source": [
    "def partition(arr, low, high):\n",
    "    pivot = arr[low]\n",
    "    left, right = low+1, high\n",
    "\n",
    "    while left < right:\n",
    "        while arr[left] <= pivot and left < high:\n",
    "            left+=1\n",
    "        while arr[right] > pivot and right > low:\n",
    "            right-=1\n",
    "        if left < right:\n",
    "            arr[left], arr[right] = arr[right], arr[left]\n",
    "    arr[low], arr[right] = arr[right], arr[low]\n",
    "    return right\n",
    "\n",
    "def quickSort(arr, low, high):\n",
    "    if low < high:\n",
    "        pivot = partition(arr, low, high)\n",
    "        quickSort(arr, low, pivot-1)\n",
    "        quickSort(arr, pivot+1, high)\n",
    "        return arr\n",
    "\n",
    "if __name__ == '__main__':\n",
    "    arr = [22, 32, 12, 64, 31, 15, 50]\n",
    "    print(f\"Before sorting: {arr}\")\n",
    "    low, high = 0, len(arr) - 1\n",
    "    quickSort(arr, low, high)\n",
    "    print(f\"After sorting: {arr}\")"
   ]
  },
  {
   "cell_type": "markdown",
   "id": "2a318bf9",
   "metadata": {},
   "source": [
    "## Complexity Analysis of Quick Sort\n",
    "### Time Complexity:\n",
    "- Best Case: (Ω(n log n)), Occurs when the pivot element divides the array into two equal halves.\n",
    "- Average Case (θ(n log n)), On average, the pivot divides the array into two parts, but not necessarily equal.\n",
    "- Worst Case: (O(n²)), Occurs when the smallest or largest element is always chosen as the pivot (e.g., sorted arrays).\n",
    "### Auxiliary Space: \n",
    "- O(n), due to recursive call stack\n",
    "\n",
    "## Advantages of Quick Sort\n",
    "- It is a divide-and-conquer algorithm that makes it easier to solve problems.\n",
    "- It is efficient on large data sets.\n",
    "- It has a low overhead, as it only requires a small amount of memory to function.\n",
    "- It is Cache Friendly as we work on the same array to sort and do not copy data to any auxiliary array.\n",
    "- Fastest general purpose algorithm for large data when stability is not required.\n",
    "- It is tail recursive and hence all the tail call optimization can be done.\n",
    "\n",
    "## Disadvantages of Quick Sort\n",
    "- It has a worst-case time complexity of O(n²), which occurs when the pivot is chosen poorly.\n",
    "- It is not a good choice for small data sets.\n",
    "- It is not a stable sort, meaning that if two elements have the same key, their relative order will not be preserved in the sorted output in case of quick sort, because here we are swapping elements according to the pivot’s position (without considering their original positions)."
   ]
  }
 ],
 "metadata": {
  "kernelspec": {
   "display_name": "base",
   "language": "python",
   "name": "python3"
  },
  "language_info": {
   "codemirror_mode": {
    "name": "ipython",
    "version": 3
   },
   "file_extension": ".py",
   "mimetype": "text/x-python",
   "name": "python",
   "nbconvert_exporter": "python",
   "pygments_lexer": "ipython3",
   "version": "3.12.4"
  }
 },
 "nbformat": 4,
 "nbformat_minor": 5
}
