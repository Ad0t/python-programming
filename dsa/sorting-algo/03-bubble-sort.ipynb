{
 "cells": [
  {
   "cell_type": "markdown",
   "id": "b0c31fc7",
   "metadata": {},
   "source": [
    "# Bubble Sort\n",
    "Bubble Sort is the simplest sorting algorithm that works by repeatedly swapping the adjacent elements if they are in the wrong order. This algorithm is not suitable for large data sets as its average and worst-case time complexity are quite high.\n",
    "1. We sort the array using multiple passes. After the first pass, the maximum element goes to end (its correct position). Same way, after second pass, the second largest element goes to second last position and so on.\n",
    "2. In every pass, we process only those elements that have already not moved to correct position. After k passes, the largest k elements must have been moved to the last k positions.\n",
    "3. In a pass, we consider remaining elements and compare all adjacent and swap if larger element is before a smaller element. If we keep doing this, we get the largest (among the remaining elements) at its correct position. "
   ]
  },
  {
   "cell_type": "code",
   "execution_count": 19,
   "id": "6f61d8a0",
   "metadata": {},
   "outputs": [
    {
     "name": "stdout",
     "output_type": "stream",
     "text": [
      "Before sorting: [22, 32, 12, 64, 31, 15, 50]\n",
      "\n",
      "The largest element is sent back again n again with the array skipping the last element from the last range.\n",
      "\n",
      "STEPS:\n",
      "Unsorted - Is Swapped - Sorted\n",
      "[22] - [32, 12] - [64, 31, 15, 50] \n",
      "[22, 12, 32] - [64, 31] - [15, 50] \n",
      "[22, 12, 32, 31] - [64, 15] - [50] \n",
      "[22, 12, 32, 31, 15] - [64, 50] - [] \n",
      "[22, 12, 32, 31, 15, 50, 64] \n",
      "\n",
      "[] - [22, 12] - [32, 31, 15, 50, 64] \n",
      "[12, 22] - [32, 31] - [15, 50, 64] \n",
      "[12, 22, 31] - [32, 15] - [50, 64] \n",
      "[12, 22, 31, 15, 32, 50, 64] \n",
      "\n",
      "[12, 22] - [31, 15] - [32, 50, 64] \n",
      "[12, 22, 15, 31, 32, 50, 64] \n",
      "\n",
      "[12] - [22, 15] - [31, 32, 50, 64] \n",
      "[12, 15, 22, 31, 32, 50, 64] \n",
      "\n",
      "After sorting: [12, 15, 22, 31, 32, 50, 64]\n"
     ]
    }
   ],
   "source": [
    "def bubbleSort(arr):\n",
    "\n",
    "    print(\"\\nThe largest element is sent back again n again with the array skipping the last element from the last range.\\n\\nSTEPS:\\nUnsorted - Is Swapped - Sorted\")\n",
    "    # largest at last (goes from end to start)\n",
    "    for i in range(len(arr)-1, 0, -1):\n",
    "        s = 0\n",
    "\n",
    "        for j in range(0, i):    \n",
    "            if arr[j] > arr[j+1]:\n",
    "                # print(arr)\n",
    "                print(f\"{arr[:j]} - {arr[j:j+2]} - {arr[j+2:]} \")\n",
    "                arr[j+1], arr[j] = arr[j], arr[j+1]\n",
    "                s = 1\n",
    "        if s == 0:\n",
    "            break\n",
    "        \n",
    "        print(arr, \"\\n\")\n",
    "    return arr\n",
    "\n",
    "if __name__ == '__main__':\n",
    "    arr = [22, 32, 12, 64, 31, 15, 50]\n",
    "    print(f\"Before sorting: {arr}\")\n",
    "    bubbleSort(arr)\n",
    "    print(f\"After sorting: {arr}\")"
   ]
  },
  {
   "cell_type": "markdown",
   "id": "39873839",
   "metadata": {},
   "source": [
    "## Complexity Analysis of Bubble Sort:\n",
    "### Time Complexity: \n",
    "- O(n²)\n",
    "### Auxiliary Space: \n",
    "- O(1)\n",
    "\n",
    "## Advantages of Bubble Sort:\n",
    "- Bubble sort is easy to understand and implement.\n",
    "- It does not require any additional memory space.\n",
    "- It is a stable sorting algorithm, meaning that elements with the same key value maintain their relative order in the sorted output.\n",
    "\n",
    "## Disadvantages of Bubble Sort:\n",
    "- Bubble sort has a time complexity of O(n²) which makes it very slow for large data sets.\n",
    "- Bubble sort has almost no or limited real world applications. It is mostly used in academics to teach different ways of sorting.\n",
    "\n"
   ]
  }
 ],
 "metadata": {
  "kernelspec": {
   "display_name": "base",
   "language": "python",
   "name": "python3"
  },
  "language_info": {
   "codemirror_mode": {
    "name": "ipython",
    "version": 3
   },
   "file_extension": ".py",
   "mimetype": "text/x-python",
   "name": "python",
   "nbconvert_exporter": "python",
   "pygments_lexer": "ipython3",
   "version": "3.12.4"
  }
 },
 "nbformat": 4,
 "nbformat_minor": 5
}
