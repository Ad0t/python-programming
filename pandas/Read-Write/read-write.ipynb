{
 "cells": [
  {
   "cell_type": "markdown",
   "metadata": {},
   "source": [
    "# Read CSV"
   ]
  },
  {
   "cell_type": "code",
   "execution_count": 6,
   "metadata": {},
   "outputs": [
    {
     "name": "stdout",
     "output_type": "stream",
     "text": [
      "  tickers            eps  revenue price         people\n",
      "0   GOOGL          27.82       87   845     larry page\n",
      "1     WMT           4.61      484    65           n.a.\n",
      "2    MSFT             -1       85    64     bill gates\n",
      "3    RIL   not available       50  1023  mukesh ambani\n",
      "4    TATA            5.6       -1  n.a.     ratan tata\n",
      "\n",
      "  GOOGL          27.82   87   845     larry page\n",
      "0   WMT           4.61  484    65           n.a.\n",
      "1  MSFT             -1   85    64     bill gates\n",
      "2  RIL   not available   50  1023  mukesh ambani\n",
      "3  TATA            5.6   -1  n.a.     ratan tata\n",
      "\n",
      "  GOOGL          27.82   87   845     larry page\n",
      "0   WMT           4.61  484    65           n.a.\n",
      "1  MSFT             -1   85    64     bill gates\n",
      "2  RIL   not available   50  1023  mukesh ambani\n",
      "3  TATA            5.6   -1  n.a.     ratan tata\n",
      "\n",
      "                ticker      eps revenue         people\n",
      "tickers            eps  revenue   price         people\n",
      "GOOGL            27.82       87     845     larry page\n",
      "WMT               4.61      484      65           n.a.\n",
      "MSFT                -1       85      64     bill gates\n",
      "RIL      not available       50    1023  mukesh ambani\n",
      "TATA               5.6       -1    n.a.     ratan tata\n",
      "\n"
     ]
    }
   ],
   "source": [
    "import pandas as pd\n",
    "df = pd.read_csv(r\"stock_data.csv\")\n",
    "print(f\"{df}\\n\")\n",
    "df = pd.read_csv(r\"stock_data.csv\", skiprows=1)\n",
    "print(f\"{df}\\n\")\n",
    "df = pd.read_csv(r\"stock_data.csv\", header=1)\n",
    "print(f\"{df}\\n\")\n",
    "df = pd.read_csv(r\"stock_data.csv\", header=None, names=[\"ticker\", \"eps\", \"revenue\", \"people\"])\n",
    "print(f\"{df}\\n\")"
   ]
  },
  {
   "cell_type": "code",
   "execution_count": null,
   "metadata": {},
   "outputs": [
    {
     "data": {
      "text/html": [
       "<div>\n",
       "<style scoped>\n",
       "    .dataframe tbody tr th:only-of-type {\n",
       "        vertical-align: middle;\n",
       "    }\n",
       "\n",
       "    .dataframe tbody tr th {\n",
       "        vertical-align: top;\n",
       "    }\n",
       "\n",
       "    .dataframe thead th {\n",
       "        text-align: right;\n",
       "    }\n",
       "</style>\n",
       "<table border=\"1\" class=\"dataframe\">\n",
       "  <thead>\n",
       "    <tr style=\"text-align: right;\">\n",
       "      <th></th>\n",
       "      <th>GOOGL</th>\n",
       "      <th>27.82</th>\n",
       "      <th>87</th>\n",
       "      <th>845</th>\n",
       "      <th>larry page</th>\n",
       "    </tr>\n",
       "  </thead>\n",
       "  <tbody>\n",
       "    <tr>\n",
       "      <th>0</th>\n",
       "      <td>WMT</td>\n",
       "      <td>4.61</td>\n",
       "      <td>484</td>\n",
       "      <td>65</td>\n",
       "      <td>n.a.</td>\n",
       "    </tr>\n",
       "    <tr>\n",
       "      <th>1</th>\n",
       "      <td>MSFT</td>\n",
       "      <td>-1</td>\n",
       "      <td>85</td>\n",
       "      <td>64</td>\n",
       "      <td>bill gates</td>\n",
       "    </tr>\n",
       "    <tr>\n",
       "      <th>2</th>\n",
       "      <td>RIL</td>\n",
       "      <td>not available</td>\n",
       "      <td>50</td>\n",
       "      <td>1023</td>\n",
       "      <td>mukesh ambani</td>\n",
       "    </tr>\n",
       "    <tr>\n",
       "      <th>3</th>\n",
       "      <td>TATA</td>\n",
       "      <td>5.6</td>\n",
       "      <td>-1</td>\n",
       "      <td>n.a.</td>\n",
       "      <td>ratan tata</td>\n",
       "    </tr>\n",
       "  </tbody>\n",
       "</table>\n",
       "</div>"
      ],
      "text/plain": [
       "  GOOGL          27.82   87   845     larry page\n",
       "0   WMT           4.61  484    65           n.a.\n",
       "1  MSFT             -1   85    64     bill gates\n",
       "2  RIL   not available   50  1023  mukesh ambani\n",
       "3  TATA            5.6   -1  n.a.     ratan tata"
      ]
     },
     "execution_count": 3,
     "metadata": {},
     "output_type": "execute_result"
    }
   ],
   "source": []
  },
  {
   "cell_type": "code",
   "execution_count": null,
   "metadata": {},
   "outputs": [],
   "source": []
  }
 ],
 "metadata": {
  "kernelspec": {
   "display_name": "base",
   "language": "python",
   "name": "python3"
  },
  "language_info": {
   "codemirror_mode": {
    "name": "ipython",
    "version": 3
   },
   "file_extension": ".py",
   "mimetype": "text/x-python",
   "name": "python",
   "nbconvert_exporter": "python",
   "pygments_lexer": "ipython3",
   "version": "3.12.4"
  }
 },
 "nbformat": 4,
 "nbformat_minor": 2
}
